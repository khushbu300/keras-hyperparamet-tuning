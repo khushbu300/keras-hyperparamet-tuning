{
  "nbformat": 4,
  "nbformat_minor": 0,
  "metadata": {
    "colab": {
      "provenance": []
    },
    "kernelspec": {
      "name": "python3",
      "display_name": "Python 3"
    },
    "language_info": {
      "name": "python"
    },
    "accelerator": "GPU",
    "gpuClass": "standard"
  },
  "cells": [
    {
      "cell_type": "code",
      "execution_count": 1,
      "metadata": {
        "id": "73lxRqTKqGcN"
      },
      "outputs": [],
      "source": [
        "import numpy as np\n",
        "import pandas as pd\n"
      ]
    },
    {
      "cell_type": "code",
      "source": [
        "df = pd.read_csv(\"/content/diabetes.csv\")"
      ],
      "metadata": {
        "id": "mMXn00Tpritx"
      },
      "execution_count": 2,
      "outputs": []
    },
    {
      "cell_type": "code",
      "source": [
        "df.head()"
      ],
      "metadata": {
        "colab": {
          "base_uri": "https://localhost:8080/",
          "height": 206
        },
        "id": "tfhvhz0YrxNp",
        "outputId": "a5564c1d-2e66-4515-9fc3-b31a6028090a"
      },
      "execution_count": 3,
      "outputs": [
        {
          "output_type": "execute_result",
          "data": {
            "text/plain": [
              "   Pregnancies  Glucose  BloodPressure  SkinThickness  Insulin   BMI  \\\n",
              "0            6      148             72             35        0  33.6   \n",
              "1            1       85             66             29        0  26.6   \n",
              "2            8      183             64              0        0  23.3   \n",
              "3            1       89             66             23       94  28.1   \n",
              "4            0      137             40             35      168  43.1   \n",
              "\n",
              "   DiabetesPedigreeFunction  Age  Outcome  \n",
              "0                     0.627   50        1  \n",
              "1                     0.351   31        0  \n",
              "2                     0.672   32        1  \n",
              "3                     0.167   21        0  \n",
              "4                     2.288   33        1  "
            ],
            "text/html": [
              "\n",
              "  <div id=\"df-e193a78a-55a7-4031-8753-0012bb67b714\">\n",
              "    <div class=\"colab-df-container\">\n",
              "      <div>\n",
              "<style scoped>\n",
              "    .dataframe tbody tr th:only-of-type {\n",
              "        vertical-align: middle;\n",
              "    }\n",
              "\n",
              "    .dataframe tbody tr th {\n",
              "        vertical-align: top;\n",
              "    }\n",
              "\n",
              "    .dataframe thead th {\n",
              "        text-align: right;\n",
              "    }\n",
              "</style>\n",
              "<table border=\"1\" class=\"dataframe\">\n",
              "  <thead>\n",
              "    <tr style=\"text-align: right;\">\n",
              "      <th></th>\n",
              "      <th>Pregnancies</th>\n",
              "      <th>Glucose</th>\n",
              "      <th>BloodPressure</th>\n",
              "      <th>SkinThickness</th>\n",
              "      <th>Insulin</th>\n",
              "      <th>BMI</th>\n",
              "      <th>DiabetesPedigreeFunction</th>\n",
              "      <th>Age</th>\n",
              "      <th>Outcome</th>\n",
              "    </tr>\n",
              "  </thead>\n",
              "  <tbody>\n",
              "    <tr>\n",
              "      <th>0</th>\n",
              "      <td>6</td>\n",
              "      <td>148</td>\n",
              "      <td>72</td>\n",
              "      <td>35</td>\n",
              "      <td>0</td>\n",
              "      <td>33.6</td>\n",
              "      <td>0.627</td>\n",
              "      <td>50</td>\n",
              "      <td>1</td>\n",
              "    </tr>\n",
              "    <tr>\n",
              "      <th>1</th>\n",
              "      <td>1</td>\n",
              "      <td>85</td>\n",
              "      <td>66</td>\n",
              "      <td>29</td>\n",
              "      <td>0</td>\n",
              "      <td>26.6</td>\n",
              "      <td>0.351</td>\n",
              "      <td>31</td>\n",
              "      <td>0</td>\n",
              "    </tr>\n",
              "    <tr>\n",
              "      <th>2</th>\n",
              "      <td>8</td>\n",
              "      <td>183</td>\n",
              "      <td>64</td>\n",
              "      <td>0</td>\n",
              "      <td>0</td>\n",
              "      <td>23.3</td>\n",
              "      <td>0.672</td>\n",
              "      <td>32</td>\n",
              "      <td>1</td>\n",
              "    </tr>\n",
              "    <tr>\n",
              "      <th>3</th>\n",
              "      <td>1</td>\n",
              "      <td>89</td>\n",
              "      <td>66</td>\n",
              "      <td>23</td>\n",
              "      <td>94</td>\n",
              "      <td>28.1</td>\n",
              "      <td>0.167</td>\n",
              "      <td>21</td>\n",
              "      <td>0</td>\n",
              "    </tr>\n",
              "    <tr>\n",
              "      <th>4</th>\n",
              "      <td>0</td>\n",
              "      <td>137</td>\n",
              "      <td>40</td>\n",
              "      <td>35</td>\n",
              "      <td>168</td>\n",
              "      <td>43.1</td>\n",
              "      <td>2.288</td>\n",
              "      <td>33</td>\n",
              "      <td>1</td>\n",
              "    </tr>\n",
              "  </tbody>\n",
              "</table>\n",
              "</div>\n",
              "      <button class=\"colab-df-convert\" onclick=\"convertToInteractive('df-e193a78a-55a7-4031-8753-0012bb67b714')\"\n",
              "              title=\"Convert this dataframe to an interactive table.\"\n",
              "              style=\"display:none;\">\n",
              "        \n",
              "  <svg xmlns=\"http://www.w3.org/2000/svg\" height=\"24px\"viewBox=\"0 0 24 24\"\n",
              "       width=\"24px\">\n",
              "    <path d=\"M0 0h24v24H0V0z\" fill=\"none\"/>\n",
              "    <path d=\"M18.56 5.44l.94 2.06.94-2.06 2.06-.94-2.06-.94-.94-2.06-.94 2.06-2.06.94zm-11 1L8.5 8.5l.94-2.06 2.06-.94-2.06-.94L8.5 2.5l-.94 2.06-2.06.94zm10 10l.94 2.06.94-2.06 2.06-.94-2.06-.94-.94-2.06-.94 2.06-2.06.94z\"/><path d=\"M17.41 7.96l-1.37-1.37c-.4-.4-.92-.59-1.43-.59-.52 0-1.04.2-1.43.59L10.3 9.45l-7.72 7.72c-.78.78-.78 2.05 0 2.83L4 21.41c.39.39.9.59 1.41.59.51 0 1.02-.2 1.41-.59l7.78-7.78 2.81-2.81c.8-.78.8-2.07 0-2.86zM5.41 20L4 18.59l7.72-7.72 1.47 1.35L5.41 20z\"/>\n",
              "  </svg>\n",
              "      </button>\n",
              "      \n",
              "  <style>\n",
              "    .colab-df-container {\n",
              "      display:flex;\n",
              "      flex-wrap:wrap;\n",
              "      gap: 12px;\n",
              "    }\n",
              "\n",
              "    .colab-df-convert {\n",
              "      background-color: #E8F0FE;\n",
              "      border: none;\n",
              "      border-radius: 50%;\n",
              "      cursor: pointer;\n",
              "      display: none;\n",
              "      fill: #1967D2;\n",
              "      height: 32px;\n",
              "      padding: 0 0 0 0;\n",
              "      width: 32px;\n",
              "    }\n",
              "\n",
              "    .colab-df-convert:hover {\n",
              "      background-color: #E2EBFA;\n",
              "      box-shadow: 0px 1px 2px rgba(60, 64, 67, 0.3), 0px 1px 3px 1px rgba(60, 64, 67, 0.15);\n",
              "      fill: #174EA6;\n",
              "    }\n",
              "\n",
              "    [theme=dark] .colab-df-convert {\n",
              "      background-color: #3B4455;\n",
              "      fill: #D2E3FC;\n",
              "    }\n",
              "\n",
              "    [theme=dark] .colab-df-convert:hover {\n",
              "      background-color: #434B5C;\n",
              "      box-shadow: 0px 1px 3px 1px rgba(0, 0, 0, 0.15);\n",
              "      filter: drop-shadow(0px 1px 2px rgba(0, 0, 0, 0.3));\n",
              "      fill: #FFFFFF;\n",
              "    }\n",
              "  </style>\n",
              "\n",
              "      <script>\n",
              "        const buttonEl =\n",
              "          document.querySelector('#df-e193a78a-55a7-4031-8753-0012bb67b714 button.colab-df-convert');\n",
              "        buttonEl.style.display =\n",
              "          google.colab.kernel.accessAllowed ? 'block' : 'none';\n",
              "\n",
              "        async function convertToInteractive(key) {\n",
              "          const element = document.querySelector('#df-e193a78a-55a7-4031-8753-0012bb67b714');\n",
              "          const dataTable =\n",
              "            await google.colab.kernel.invokeFunction('convertToInteractive',\n",
              "                                                     [key], {});\n",
              "          if (!dataTable) return;\n",
              "\n",
              "          const docLinkHtml = 'Like what you see? Visit the ' +\n",
              "            '<a target=\"_blank\" href=https://colab.research.google.com/notebooks/data_table.ipynb>data table notebook</a>'\n",
              "            + ' to learn more about interactive tables.';\n",
              "          element.innerHTML = '';\n",
              "          dataTable['output_type'] = 'display_data';\n",
              "          await google.colab.output.renderOutput(dataTable, element);\n",
              "          const docLink = document.createElement('div');\n",
              "          docLink.innerHTML = docLinkHtml;\n",
              "          element.appendChild(docLink);\n",
              "        }\n",
              "      </script>\n",
              "    </div>\n",
              "  </div>\n",
              "  "
            ]
          },
          "metadata": {},
          "execution_count": 3
        }
      ]
    },
    {
      "cell_type": "code",
      "source": [
        "df.shape"
      ],
      "metadata": {
        "colab": {
          "base_uri": "https://localhost:8080/"
        },
        "id": "QOBBaXRTryuD",
        "outputId": "e6ddfa5d-f6e7-4ae7-dba2-33c4c06cad86"
      },
      "execution_count": 4,
      "outputs": [
        {
          "output_type": "execute_result",
          "data": {
            "text/plain": [
              "(768, 9)"
            ]
          },
          "metadata": {},
          "execution_count": 4
        }
      ]
    },
    {
      "cell_type": "code",
      "source": [
        "df.corr()['Outcome']"
      ],
      "metadata": {
        "colab": {
          "base_uri": "https://localhost:8080/"
        },
        "id": "o8Yw16lZr1vx",
        "outputId": "8667902c-cbd7-4a09-80ab-41d3211fc9fb"
      },
      "execution_count": 5,
      "outputs": [
        {
          "output_type": "execute_result",
          "data": {
            "text/plain": [
              "Pregnancies                 0.221898\n",
              "Glucose                     0.466581\n",
              "BloodPressure               0.065068\n",
              "SkinThickness               0.074752\n",
              "Insulin                     0.130548\n",
              "BMI                         0.292695\n",
              "DiabetesPedigreeFunction    0.173844\n",
              "Age                         0.238356\n",
              "Outcome                     1.000000\n",
              "Name: Outcome, dtype: float64"
            ]
          },
          "metadata": {},
          "execution_count": 5
        }
      ]
    },
    {
      "cell_type": "code",
      "source": [
        "x = df.iloc[:,:-1].values\n",
        "y = df.iloc[:,-1].values"
      ],
      "metadata": {
        "id": "mNFvQx90sCcF"
      },
      "execution_count": 6,
      "outputs": []
    },
    {
      "cell_type": "code",
      "source": [
        "from sklearn.preprocessing import StandardScaler\n",
        "sc = StandardScaler()"
      ],
      "metadata": {
        "id": "6wbtiJAAueF6"
      },
      "execution_count": 7,
      "outputs": []
    },
    {
      "cell_type": "code",
      "source": [
        "X = sc.fit_transform(x)"
      ],
      "metadata": {
        "id": "RLcWM9jeureT"
      },
      "execution_count": 8,
      "outputs": []
    },
    {
      "cell_type": "code",
      "source": [
        "X"
      ],
      "metadata": {
        "colab": {
          "base_uri": "https://localhost:8080/"
        },
        "id": "xTqgH4tmuyWg",
        "outputId": "fc65118b-4208-43df-f9a3-e4a32c61a11c"
      },
      "execution_count": 9,
      "outputs": [
        {
          "output_type": "execute_result",
          "data": {
            "text/plain": [
              "array([[ 0.63994726,  0.84832379,  0.14964075, ...,  0.20401277,\n",
              "         0.46849198,  1.4259954 ],\n",
              "       [-0.84488505, -1.12339636, -0.16054575, ..., -0.68442195,\n",
              "        -0.36506078, -0.19067191],\n",
              "       [ 1.23388019,  1.94372388, -0.26394125, ..., -1.10325546,\n",
              "         0.60439732, -0.10558415],\n",
              "       ...,\n",
              "       [ 0.3429808 ,  0.00330087,  0.14964075, ..., -0.73518964,\n",
              "        -0.68519336, -0.27575966],\n",
              "       [-0.84488505,  0.1597866 , -0.47073225, ..., -0.24020459,\n",
              "        -0.37110101,  1.17073215],\n",
              "       [-0.84488505, -0.8730192 ,  0.04624525, ..., -0.20212881,\n",
              "        -0.47378505, -0.87137393]])"
            ]
          },
          "metadata": {},
          "execution_count": 9
        }
      ]
    },
    {
      "cell_type": "code",
      "source": [
        "from sklearn.model_selection import train_test_split\n",
        "X_train,X_test,y_train,y_test = train_test_split(X,y,test_size=0.2,random_state=2)"
      ],
      "metadata": {
        "id": "sUb4BV_luz7_"
      },
      "execution_count": 10,
      "outputs": []
    },
    {
      "cell_type": "code",
      "source": [
        "import tensorflow\n",
        "from tensorflow import keras\n",
        "from keras import Sequential\n",
        "from keras.layers import Dense,Dropout"
      ],
      "metadata": {
        "id": "BJLRjxcVvVci"
      },
      "execution_count": 11,
      "outputs": []
    },
    {
      "cell_type": "code",
      "source": [
        "model = Sequential()\n",
        "model.add(Dense(32,activation='relu',input_dim=8))\n",
        "model.add(Dense(1,activation='sigmoid'))\n",
        "\n",
        "model.compile(optimizer='Adam', loss='binary_crossentropy', metrics = ['accuracy'])"
      ],
      "metadata": {
        "id": "OnFLjwLgv-Y-"
      },
      "execution_count": 12,
      "outputs": []
    },
    {
      "cell_type": "code",
      "source": [
        "model.fit(X_train,y_train,batch_size=32,epochs=100, validation_data=(X_test,y_test))"
      ],
      "metadata": {
        "colab": {
          "base_uri": "https://localhost:8080/"
        },
        "id": "o8xT8xjYw4j6",
        "outputId": "922bced7-5ccf-495f-df55-f93626ad0ee0"
      },
      "execution_count": 13,
      "outputs": [
        {
          "output_type": "stream",
          "name": "stdout",
          "text": [
            "Epoch 1/100\n",
            "20/20 [==============================] - 2s 13ms/step - loss: 0.6643 - accuracy: 0.6303 - val_loss: 0.6060 - val_accuracy: 0.7143\n",
            "Epoch 2/100\n",
            "20/20 [==============================] - 0s 5ms/step - loss: 0.6179 - accuracy: 0.6775 - val_loss: 0.5718 - val_accuracy: 0.7403\n",
            "Epoch 3/100\n",
            "20/20 [==============================] - 0s 5ms/step - loss: 0.5843 - accuracy: 0.7199 - val_loss: 0.5441 - val_accuracy: 0.7597\n",
            "Epoch 4/100\n",
            "20/20 [==============================] - 0s 5ms/step - loss: 0.5591 - accuracy: 0.7410 - val_loss: 0.5232 - val_accuracy: 0.7468\n",
            "Epoch 5/100\n",
            "20/20 [==============================] - 0s 7ms/step - loss: 0.5407 - accuracy: 0.7622 - val_loss: 0.5094 - val_accuracy: 0.7532\n",
            "Epoch 6/100\n",
            "20/20 [==============================] - 0s 7ms/step - loss: 0.5252 - accuracy: 0.7573 - val_loss: 0.4965 - val_accuracy: 0.7597\n",
            "Epoch 7/100\n",
            "20/20 [==============================] - 0s 7ms/step - loss: 0.5126 - accuracy: 0.7541 - val_loss: 0.4869 - val_accuracy: 0.7597\n",
            "Epoch 8/100\n",
            "20/20 [==============================] - 0s 7ms/step - loss: 0.5019 - accuracy: 0.7622 - val_loss: 0.4767 - val_accuracy: 0.7727\n",
            "Epoch 9/100\n",
            "20/20 [==============================] - 0s 6ms/step - loss: 0.4925 - accuracy: 0.7655 - val_loss: 0.4708 - val_accuracy: 0.7727\n",
            "Epoch 10/100\n",
            "20/20 [==============================] - 0s 7ms/step - loss: 0.4849 - accuracy: 0.7655 - val_loss: 0.4645 - val_accuracy: 0.7727\n",
            "Epoch 11/100\n",
            "20/20 [==============================] - 0s 17ms/step - loss: 0.4789 - accuracy: 0.7655 - val_loss: 0.4614 - val_accuracy: 0.7727\n",
            "Epoch 12/100\n",
            "20/20 [==============================] - 0s 8ms/step - loss: 0.4740 - accuracy: 0.7704 - val_loss: 0.4584 - val_accuracy: 0.7597\n",
            "Epoch 13/100\n",
            "20/20 [==============================] - 0s 14ms/step - loss: 0.4699 - accuracy: 0.7752 - val_loss: 0.4560 - val_accuracy: 0.7597\n",
            "Epoch 14/100\n",
            "20/20 [==============================] - 0s 15ms/step - loss: 0.4654 - accuracy: 0.7720 - val_loss: 0.4531 - val_accuracy: 0.7727\n",
            "Epoch 15/100\n",
            "20/20 [==============================] - 0s 12ms/step - loss: 0.4621 - accuracy: 0.7801 - val_loss: 0.4507 - val_accuracy: 0.7662\n",
            "Epoch 16/100\n",
            "20/20 [==============================] - 0s 20ms/step - loss: 0.4591 - accuracy: 0.7866 - val_loss: 0.4495 - val_accuracy: 0.7727\n",
            "Epoch 17/100\n",
            "20/20 [==============================] - 0s 13ms/step - loss: 0.4569 - accuracy: 0.7866 - val_loss: 0.4519 - val_accuracy: 0.7857\n",
            "Epoch 18/100\n",
            "20/20 [==============================] - 0s 10ms/step - loss: 0.4543 - accuracy: 0.7866 - val_loss: 0.4513 - val_accuracy: 0.7857\n",
            "Epoch 19/100\n",
            "20/20 [==============================] - 0s 12ms/step - loss: 0.4526 - accuracy: 0.7850 - val_loss: 0.4505 - val_accuracy: 0.7792\n",
            "Epoch 20/100\n",
            "20/20 [==============================] - 0s 9ms/step - loss: 0.4511 - accuracy: 0.7883 - val_loss: 0.4487 - val_accuracy: 0.7792\n",
            "Epoch 21/100\n",
            "20/20 [==============================] - 0s 10ms/step - loss: 0.4493 - accuracy: 0.7883 - val_loss: 0.4495 - val_accuracy: 0.7792\n",
            "Epoch 22/100\n",
            "20/20 [==============================] - 0s 7ms/step - loss: 0.4479 - accuracy: 0.7834 - val_loss: 0.4507 - val_accuracy: 0.7857\n",
            "Epoch 23/100\n",
            "20/20 [==============================] - 0s 8ms/step - loss: 0.4469 - accuracy: 0.7785 - val_loss: 0.4520 - val_accuracy: 0.7792\n",
            "Epoch 24/100\n",
            "20/20 [==============================] - 0s 7ms/step - loss: 0.4460 - accuracy: 0.7752 - val_loss: 0.4481 - val_accuracy: 0.7727\n",
            "Epoch 25/100\n",
            "20/20 [==============================] - 0s 7ms/step - loss: 0.4448 - accuracy: 0.7818 - val_loss: 0.4487 - val_accuracy: 0.7792\n",
            "Epoch 26/100\n",
            "20/20 [==============================] - 0s 9ms/step - loss: 0.4440 - accuracy: 0.7801 - val_loss: 0.4514 - val_accuracy: 0.7792\n",
            "Epoch 27/100\n",
            "20/20 [==============================] - 0s 11ms/step - loss: 0.4432 - accuracy: 0.7785 - val_loss: 0.4515 - val_accuracy: 0.7792\n",
            "Epoch 28/100\n",
            "20/20 [==============================] - 0s 7ms/step - loss: 0.4423 - accuracy: 0.7769 - val_loss: 0.4499 - val_accuracy: 0.7792\n",
            "Epoch 29/100\n",
            "20/20 [==============================] - 0s 8ms/step - loss: 0.4416 - accuracy: 0.7818 - val_loss: 0.4509 - val_accuracy: 0.7792\n",
            "Epoch 30/100\n",
            "20/20 [==============================] - 0s 7ms/step - loss: 0.4414 - accuracy: 0.7769 - val_loss: 0.4534 - val_accuracy: 0.7792\n",
            "Epoch 31/100\n",
            "20/20 [==============================] - 0s 7ms/step - loss: 0.4401 - accuracy: 0.7769 - val_loss: 0.4523 - val_accuracy: 0.7792\n",
            "Epoch 32/100\n",
            "20/20 [==============================] - 0s 8ms/step - loss: 0.4399 - accuracy: 0.7801 - val_loss: 0.4544 - val_accuracy: 0.7857\n",
            "Epoch 33/100\n",
            "20/20 [==============================] - 0s 13ms/step - loss: 0.4383 - accuracy: 0.7834 - val_loss: 0.4529 - val_accuracy: 0.7857\n",
            "Epoch 34/100\n",
            "20/20 [==============================] - 0s 8ms/step - loss: 0.4380 - accuracy: 0.7785 - val_loss: 0.4512 - val_accuracy: 0.7857\n",
            "Epoch 35/100\n",
            "20/20 [==============================] - 0s 8ms/step - loss: 0.4371 - accuracy: 0.7866 - val_loss: 0.4521 - val_accuracy: 0.7857\n",
            "Epoch 36/100\n",
            "20/20 [==============================] - 0s 10ms/step - loss: 0.4369 - accuracy: 0.7801 - val_loss: 0.4534 - val_accuracy: 0.7857\n",
            "Epoch 37/100\n",
            "20/20 [==============================] - 0s 13ms/step - loss: 0.4366 - accuracy: 0.7785 - val_loss: 0.4549 - val_accuracy: 0.7857\n",
            "Epoch 38/100\n",
            "20/20 [==============================] - 0s 11ms/step - loss: 0.4363 - accuracy: 0.7818 - val_loss: 0.4535 - val_accuracy: 0.7922\n",
            "Epoch 39/100\n",
            "20/20 [==============================] - 0s 12ms/step - loss: 0.4356 - accuracy: 0.7850 - val_loss: 0.4563 - val_accuracy: 0.7922\n",
            "Epoch 40/100\n",
            "20/20 [==============================] - 0s 7ms/step - loss: 0.4350 - accuracy: 0.7785 - val_loss: 0.4570 - val_accuracy: 0.7857\n",
            "Epoch 41/100\n",
            "20/20 [==============================] - 0s 16ms/step - loss: 0.4340 - accuracy: 0.7818 - val_loss: 0.4566 - val_accuracy: 0.7857\n",
            "Epoch 42/100\n",
            "20/20 [==============================] - 0s 7ms/step - loss: 0.4334 - accuracy: 0.7834 - val_loss: 0.4572 - val_accuracy: 0.7922\n",
            "Epoch 43/100\n",
            "20/20 [==============================] - 0s 10ms/step - loss: 0.4328 - accuracy: 0.7801 - val_loss: 0.4572 - val_accuracy: 0.7922\n",
            "Epoch 44/100\n",
            "20/20 [==============================] - 0s 8ms/step - loss: 0.4322 - accuracy: 0.7818 - val_loss: 0.4563 - val_accuracy: 0.7922\n",
            "Epoch 45/100\n",
            "20/20 [==============================] - 0s 8ms/step - loss: 0.4318 - accuracy: 0.7866 - val_loss: 0.4569 - val_accuracy: 0.7857\n",
            "Epoch 46/100\n",
            "20/20 [==============================] - 0s 8ms/step - loss: 0.4315 - accuracy: 0.7801 - val_loss: 0.4590 - val_accuracy: 0.7922\n",
            "Epoch 47/100\n",
            "20/20 [==============================] - 0s 9ms/step - loss: 0.4309 - accuracy: 0.7785 - val_loss: 0.4582 - val_accuracy: 0.7987\n",
            "Epoch 48/100\n",
            "20/20 [==============================] - 0s 9ms/step - loss: 0.4304 - accuracy: 0.7850 - val_loss: 0.4576 - val_accuracy: 0.7857\n",
            "Epoch 49/100\n",
            "20/20 [==============================] - 0s 8ms/step - loss: 0.4296 - accuracy: 0.7883 - val_loss: 0.4594 - val_accuracy: 0.7857\n",
            "Epoch 50/100\n",
            "20/20 [==============================] - 0s 8ms/step - loss: 0.4297 - accuracy: 0.7883 - val_loss: 0.4599 - val_accuracy: 0.7857\n",
            "Epoch 51/100\n",
            "20/20 [==============================] - 0s 9ms/step - loss: 0.4293 - accuracy: 0.7866 - val_loss: 0.4592 - val_accuracy: 0.7857\n",
            "Epoch 52/100\n",
            "20/20 [==============================] - 0s 11ms/step - loss: 0.4285 - accuracy: 0.7834 - val_loss: 0.4586 - val_accuracy: 0.7857\n",
            "Epoch 53/100\n",
            "20/20 [==============================] - 0s 10ms/step - loss: 0.4282 - accuracy: 0.7850 - val_loss: 0.4592 - val_accuracy: 0.7857\n",
            "Epoch 54/100\n",
            "20/20 [==============================] - 0s 10ms/step - loss: 0.4280 - accuracy: 0.7899 - val_loss: 0.4595 - val_accuracy: 0.7792\n",
            "Epoch 55/100\n",
            "20/20 [==============================] - 0s 10ms/step - loss: 0.4278 - accuracy: 0.7883 - val_loss: 0.4587 - val_accuracy: 0.7857\n",
            "Epoch 56/100\n",
            "20/20 [==============================] - 0s 9ms/step - loss: 0.4273 - accuracy: 0.7850 - val_loss: 0.4579 - val_accuracy: 0.7857\n",
            "Epoch 57/100\n",
            "20/20 [==============================] - 0s 7ms/step - loss: 0.4272 - accuracy: 0.7899 - val_loss: 0.4611 - val_accuracy: 0.7922\n",
            "Epoch 58/100\n",
            "20/20 [==============================] - 0s 10ms/step - loss: 0.4267 - accuracy: 0.7866 - val_loss: 0.4607 - val_accuracy: 0.7857\n",
            "Epoch 59/100\n",
            "20/20 [==============================] - 0s 10ms/step - loss: 0.4266 - accuracy: 0.7834 - val_loss: 0.4619 - val_accuracy: 0.7857\n",
            "Epoch 60/100\n",
            "20/20 [==============================] - 0s 11ms/step - loss: 0.4258 - accuracy: 0.7883 - val_loss: 0.4590 - val_accuracy: 0.7922\n",
            "Epoch 61/100\n",
            "20/20 [==============================] - 0s 10ms/step - loss: 0.4253 - accuracy: 0.7883 - val_loss: 0.4614 - val_accuracy: 0.7857\n",
            "Epoch 62/100\n",
            "20/20 [==============================] - 0s 8ms/step - loss: 0.4251 - accuracy: 0.7850 - val_loss: 0.4635 - val_accuracy: 0.7857\n",
            "Epoch 63/100\n",
            "20/20 [==============================] - 0s 11ms/step - loss: 0.4250 - accuracy: 0.7915 - val_loss: 0.4600 - val_accuracy: 0.7857\n",
            "Epoch 64/100\n",
            "20/20 [==============================] - 0s 7ms/step - loss: 0.4243 - accuracy: 0.7915 - val_loss: 0.4625 - val_accuracy: 0.7857\n",
            "Epoch 65/100\n",
            "20/20 [==============================] - 0s 7ms/step - loss: 0.4236 - accuracy: 0.7915 - val_loss: 0.4606 - val_accuracy: 0.7857\n",
            "Epoch 66/100\n",
            "20/20 [==============================] - 0s 8ms/step - loss: 0.4237 - accuracy: 0.7915 - val_loss: 0.4605 - val_accuracy: 0.7922\n",
            "Epoch 67/100\n",
            "20/20 [==============================] - 0s 8ms/step - loss: 0.4237 - accuracy: 0.7883 - val_loss: 0.4610 - val_accuracy: 0.7922\n",
            "Epoch 68/100\n",
            "20/20 [==============================] - 0s 10ms/step - loss: 0.4233 - accuracy: 0.7964 - val_loss: 0.4600 - val_accuracy: 0.7922\n",
            "Epoch 69/100\n",
            "20/20 [==============================] - 0s 9ms/step - loss: 0.4229 - accuracy: 0.7883 - val_loss: 0.4626 - val_accuracy: 0.7857\n",
            "Epoch 70/100\n",
            "20/20 [==============================] - 0s 15ms/step - loss: 0.4225 - accuracy: 0.7883 - val_loss: 0.4602 - val_accuracy: 0.7857\n",
            "Epoch 71/100\n",
            "20/20 [==============================] - 0s 12ms/step - loss: 0.4226 - accuracy: 0.7948 - val_loss: 0.4607 - val_accuracy: 0.7922\n",
            "Epoch 72/100\n",
            "20/20 [==============================] - 0s 12ms/step - loss: 0.4216 - accuracy: 0.7899 - val_loss: 0.4635 - val_accuracy: 0.7922\n",
            "Epoch 73/100\n",
            "20/20 [==============================] - 0s 13ms/step - loss: 0.4215 - accuracy: 0.7866 - val_loss: 0.4636 - val_accuracy: 0.7857\n",
            "Epoch 74/100\n",
            "20/20 [==============================] - 0s 15ms/step - loss: 0.4212 - accuracy: 0.7883 - val_loss: 0.4575 - val_accuracy: 0.8052\n",
            "Epoch 75/100\n",
            "20/20 [==============================] - 0s 13ms/step - loss: 0.4211 - accuracy: 0.7899 - val_loss: 0.4583 - val_accuracy: 0.8052\n",
            "Epoch 76/100\n",
            "20/20 [==============================] - 0s 15ms/step - loss: 0.4206 - accuracy: 0.7948 - val_loss: 0.4594 - val_accuracy: 0.7987\n",
            "Epoch 77/100\n",
            "20/20 [==============================] - 0s 17ms/step - loss: 0.4201 - accuracy: 0.7948 - val_loss: 0.4602 - val_accuracy: 0.7987\n",
            "Epoch 78/100\n",
            "20/20 [==============================] - 0s 14ms/step - loss: 0.4198 - accuracy: 0.7948 - val_loss: 0.4607 - val_accuracy: 0.7987\n",
            "Epoch 79/100\n",
            "20/20 [==============================] - 0s 10ms/step - loss: 0.4197 - accuracy: 0.7964 - val_loss: 0.4607 - val_accuracy: 0.7922\n",
            "Epoch 80/100\n",
            "20/20 [==============================] - 0s 15ms/step - loss: 0.4193 - accuracy: 0.7980 - val_loss: 0.4611 - val_accuracy: 0.7987\n",
            "Epoch 81/100\n",
            "20/20 [==============================] - 0s 7ms/step - loss: 0.4193 - accuracy: 0.7932 - val_loss: 0.4604 - val_accuracy: 0.7987\n",
            "Epoch 82/100\n",
            "20/20 [==============================] - 0s 11ms/step - loss: 0.4182 - accuracy: 0.7932 - val_loss: 0.4621 - val_accuracy: 0.7987\n",
            "Epoch 83/100\n",
            "20/20 [==============================] - 0s 10ms/step - loss: 0.4186 - accuracy: 0.7948 - val_loss: 0.4636 - val_accuracy: 0.7987\n",
            "Epoch 84/100\n",
            "20/20 [==============================] - 0s 8ms/step - loss: 0.4178 - accuracy: 0.7948 - val_loss: 0.4621 - val_accuracy: 0.8052\n",
            "Epoch 85/100\n",
            "20/20 [==============================] - 0s 9ms/step - loss: 0.4182 - accuracy: 0.7948 - val_loss: 0.4617 - val_accuracy: 0.8052\n",
            "Epoch 86/100\n",
            "20/20 [==============================] - 0s 9ms/step - loss: 0.4173 - accuracy: 0.7899 - val_loss: 0.4626 - val_accuracy: 0.7987\n",
            "Epoch 87/100\n",
            "20/20 [==============================] - 0s 14ms/step - loss: 0.4169 - accuracy: 0.7964 - val_loss: 0.4604 - val_accuracy: 0.8052\n",
            "Epoch 88/100\n",
            "20/20 [==============================] - 0s 15ms/step - loss: 0.4165 - accuracy: 0.7980 - val_loss: 0.4611 - val_accuracy: 0.8052\n",
            "Epoch 89/100\n",
            "20/20 [==============================] - 0s 12ms/step - loss: 0.4163 - accuracy: 0.7883 - val_loss: 0.4633 - val_accuracy: 0.8052\n",
            "Epoch 90/100\n",
            "20/20 [==============================] - 0s 6ms/step - loss: 0.4156 - accuracy: 0.7932 - val_loss: 0.4631 - val_accuracy: 0.7987\n",
            "Epoch 91/100\n",
            "20/20 [==============================] - 0s 6ms/step - loss: 0.4158 - accuracy: 0.7899 - val_loss: 0.4612 - val_accuracy: 0.8052\n",
            "Epoch 92/100\n",
            "20/20 [==============================] - 0s 6ms/step - loss: 0.4147 - accuracy: 0.7948 - val_loss: 0.4634 - val_accuracy: 0.7922\n",
            "Epoch 93/100\n",
            "20/20 [==============================] - 0s 5ms/step - loss: 0.4142 - accuracy: 0.7932 - val_loss: 0.4632 - val_accuracy: 0.7922\n",
            "Epoch 94/100\n",
            "20/20 [==============================] - 0s 5ms/step - loss: 0.4144 - accuracy: 0.7899 - val_loss: 0.4637 - val_accuracy: 0.7857\n",
            "Epoch 95/100\n",
            "20/20 [==============================] - 0s 5ms/step - loss: 0.4136 - accuracy: 0.7915 - val_loss: 0.4635 - val_accuracy: 0.7857\n",
            "Epoch 96/100\n",
            "20/20 [==============================] - 0s 5ms/step - loss: 0.4134 - accuracy: 0.7866 - val_loss: 0.4641 - val_accuracy: 0.7857\n",
            "Epoch 97/100\n",
            "20/20 [==============================] - 0s 5ms/step - loss: 0.4138 - accuracy: 0.7834 - val_loss: 0.4633 - val_accuracy: 0.7922\n",
            "Epoch 98/100\n",
            "20/20 [==============================] - 0s 5ms/step - loss: 0.4132 - accuracy: 0.7883 - val_loss: 0.4637 - val_accuracy: 0.7987\n",
            "Epoch 99/100\n",
            "20/20 [==============================] - 0s 5ms/step - loss: 0.4130 - accuracy: 0.7850 - val_loss: 0.4653 - val_accuracy: 0.7922\n",
            "Epoch 100/100\n",
            "20/20 [==============================] - 0s 5ms/step - loss: 0.4123 - accuracy: 0.7883 - val_loss: 0.4639 - val_accuracy: 0.7857\n"
          ]
        },
        {
          "output_type": "execute_result",
          "data": {
            "text/plain": [
              "<keras.callbacks.History at 0x7f44280c31f0>"
            ]
          },
          "metadata": {},
          "execution_count": 13
        }
      ]
    },
    {
      "cell_type": "code",
      "source": [
        "pip install -U keras-tuner"
      ],
      "metadata": {
        "colab": {
          "base_uri": "https://localhost:8080/"
        },
        "id": "1Q4uI8uDxGx7",
        "outputId": "0ef8e8c4-c5db-421d-91a9-858e1987a5ed"
      },
      "execution_count": 14,
      "outputs": [
        {
          "output_type": "stream",
          "name": "stdout",
          "text": [
            "Looking in indexes: https://pypi.org/simple, https://us-python.pkg.dev/colab-wheels/public/simple/\n",
            "Requirement already satisfied: keras-tuner in /usr/local/lib/python3.8/dist-packages (1.3.0)\n",
            "Requirement already satisfied: tensorflow>=2.0 in /usr/local/lib/python3.8/dist-packages (from keras-tuner) (2.11.0)\n",
            "Requirement already satisfied: requests in /usr/local/lib/python3.8/dist-packages (from keras-tuner) (2.25.1)\n",
            "Requirement already satisfied: packaging in /usr/local/lib/python3.8/dist-packages (from keras-tuner) (23.0)\n",
            "Requirement already satisfied: ipython in /usr/local/lib/python3.8/dist-packages (from keras-tuner) (7.9.0)\n",
            "Requirement already satisfied: kt-legacy in /usr/local/lib/python3.8/dist-packages (from keras-tuner) (1.0.4)\n",
            "Requirement already satisfied: termcolor>=1.1.0 in /usr/local/lib/python3.8/dist-packages (from tensorflow>=2.0->keras-tuner) (2.2.0)\n",
            "Requirement already satisfied: astunparse>=1.6.0 in /usr/local/lib/python3.8/dist-packages (from tensorflow>=2.0->keras-tuner) (1.6.3)\n",
            "Requirement already satisfied: typing-extensions>=3.6.6 in /usr/local/lib/python3.8/dist-packages (from tensorflow>=2.0->keras-tuner) (4.5.0)\n",
            "Requirement already satisfied: tensorflow-estimator<2.12,>=2.11.0 in /usr/local/lib/python3.8/dist-packages (from tensorflow>=2.0->keras-tuner) (2.11.0)\n",
            "Requirement already satisfied: wrapt>=1.11.0 in /usr/local/lib/python3.8/dist-packages (from tensorflow>=2.0->keras-tuner) (1.14.1)\n",
            "Requirement already satisfied: libclang>=13.0.0 in /usr/local/lib/python3.8/dist-packages (from tensorflow>=2.0->keras-tuner) (15.0.6.1)\n",
            "Requirement already satisfied: gast<=0.4.0,>=0.2.1 in /usr/local/lib/python3.8/dist-packages (from tensorflow>=2.0->keras-tuner) (0.4.0)\n",
            "Requirement already satisfied: google-pasta>=0.1.1 in /usr/local/lib/python3.8/dist-packages (from tensorflow>=2.0->keras-tuner) (0.2.0)\n",
            "Requirement already satisfied: keras<2.12,>=2.11.0 in /usr/local/lib/python3.8/dist-packages (from tensorflow>=2.0->keras-tuner) (2.11.0)\n",
            "Requirement already satisfied: protobuf<3.20,>=3.9.2 in /usr/local/lib/python3.8/dist-packages (from tensorflow>=2.0->keras-tuner) (3.19.6)\n",
            "Requirement already satisfied: six>=1.12.0 in /usr/local/lib/python3.8/dist-packages (from tensorflow>=2.0->keras-tuner) (1.15.0)\n",
            "Requirement already satisfied: flatbuffers>=2.0 in /usr/local/lib/python3.8/dist-packages (from tensorflow>=2.0->keras-tuner) (23.1.21)\n",
            "Requirement already satisfied: h5py>=2.9.0 in /usr/local/lib/python3.8/dist-packages (from tensorflow>=2.0->keras-tuner) (3.1.0)\n",
            "Requirement already satisfied: numpy>=1.20 in /usr/local/lib/python3.8/dist-packages (from tensorflow>=2.0->keras-tuner) (1.22.4)\n",
            "Requirement already satisfied: grpcio<2.0,>=1.24.3 in /usr/local/lib/python3.8/dist-packages (from tensorflow>=2.0->keras-tuner) (1.51.1)\n",
            "Requirement already satisfied: setuptools in /usr/local/lib/python3.8/dist-packages (from tensorflow>=2.0->keras-tuner) (57.4.0)\n",
            "Requirement already satisfied: opt-einsum>=2.3.2 in /usr/local/lib/python3.8/dist-packages (from tensorflow>=2.0->keras-tuner) (3.3.0)\n",
            "Requirement already satisfied: tensorflow-io-gcs-filesystem>=0.23.1 in /usr/local/lib/python3.8/dist-packages (from tensorflow>=2.0->keras-tuner) (0.30.0)\n",
            "Requirement already satisfied: absl-py>=1.0.0 in /usr/local/lib/python3.8/dist-packages (from tensorflow>=2.0->keras-tuner) (1.4.0)\n",
            "Requirement already satisfied: tensorboard<2.12,>=2.11 in /usr/local/lib/python3.8/dist-packages (from tensorflow>=2.0->keras-tuner) (2.11.2)\n",
            "Requirement already satisfied: jedi>=0.10 in /usr/local/lib/python3.8/dist-packages (from ipython->keras-tuner) (0.18.2)\n",
            "Requirement already satisfied: traitlets>=4.2 in /usr/local/lib/python3.8/dist-packages (from ipython->keras-tuner) (5.7.1)\n",
            "Requirement already satisfied: prompt-toolkit<2.1.0,>=2.0.0 in /usr/local/lib/python3.8/dist-packages (from ipython->keras-tuner) (2.0.10)\n",
            "Requirement already satisfied: decorator in /usr/local/lib/python3.8/dist-packages (from ipython->keras-tuner) (4.4.2)\n",
            "Requirement already satisfied: pexpect in /usr/local/lib/python3.8/dist-packages (from ipython->keras-tuner) (4.8.0)\n",
            "Requirement already satisfied: pygments in /usr/local/lib/python3.8/dist-packages (from ipython->keras-tuner) (2.6.1)\n",
            "Requirement already satisfied: backcall in /usr/local/lib/python3.8/dist-packages (from ipython->keras-tuner) (0.2.0)\n",
            "Requirement already satisfied: pickleshare in /usr/local/lib/python3.8/dist-packages (from ipython->keras-tuner) (0.7.5)\n",
            "Requirement already satisfied: urllib3<1.27,>=1.21.1 in /usr/local/lib/python3.8/dist-packages (from requests->keras-tuner) (1.24.3)\n",
            "Requirement already satisfied: chardet<5,>=3.0.2 in /usr/local/lib/python3.8/dist-packages (from requests->keras-tuner) (4.0.0)\n",
            "Requirement already satisfied: idna<3,>=2.5 in /usr/local/lib/python3.8/dist-packages (from requests->keras-tuner) (2.10)\n",
            "Requirement already satisfied: certifi>=2017.4.17 in /usr/local/lib/python3.8/dist-packages (from requests->keras-tuner) (2022.12.7)\n",
            "Requirement already satisfied: wheel<1.0,>=0.23.0 in /usr/local/lib/python3.8/dist-packages (from astunparse>=1.6.0->tensorflow>=2.0->keras-tuner) (0.38.4)\n",
            "Requirement already satisfied: parso<0.9.0,>=0.8.0 in /usr/local/lib/python3.8/dist-packages (from jedi>=0.10->ipython->keras-tuner) (0.8.3)\n",
            "Requirement already satisfied: wcwidth in /usr/local/lib/python3.8/dist-packages (from prompt-toolkit<2.1.0,>=2.0.0->ipython->keras-tuner) (0.2.6)\n",
            "Requirement already satisfied: markdown>=2.6.8 in /usr/local/lib/python3.8/dist-packages (from tensorboard<2.12,>=2.11->tensorflow>=2.0->keras-tuner) (3.4.1)\n",
            "Requirement already satisfied: werkzeug>=1.0.1 in /usr/local/lib/python3.8/dist-packages (from tensorboard<2.12,>=2.11->tensorflow>=2.0->keras-tuner) (1.0.1)\n",
            "Requirement already satisfied: tensorboard-data-server<0.7.0,>=0.6.0 in /usr/local/lib/python3.8/dist-packages (from tensorboard<2.12,>=2.11->tensorflow>=2.0->keras-tuner) (0.6.1)\n",
            "Requirement already satisfied: google-auth<3,>=1.6.3 in /usr/local/lib/python3.8/dist-packages (from tensorboard<2.12,>=2.11->tensorflow>=2.0->keras-tuner) (2.16.1)\n",
            "Requirement already satisfied: tensorboard-plugin-wit>=1.6.0 in /usr/local/lib/python3.8/dist-packages (from tensorboard<2.12,>=2.11->tensorflow>=2.0->keras-tuner) (1.8.1)\n",
            "Requirement already satisfied: google-auth-oauthlib<0.5,>=0.4.1 in /usr/local/lib/python3.8/dist-packages (from tensorboard<2.12,>=2.11->tensorflow>=2.0->keras-tuner) (0.4.6)\n",
            "Requirement already satisfied: ptyprocess>=0.5 in /usr/local/lib/python3.8/dist-packages (from pexpect->ipython->keras-tuner) (0.7.0)\n",
            "Requirement already satisfied: rsa<5,>=3.1.4 in /usr/local/lib/python3.8/dist-packages (from google-auth<3,>=1.6.3->tensorboard<2.12,>=2.11->tensorflow>=2.0->keras-tuner) (4.9)\n",
            "Requirement already satisfied: pyasn1-modules>=0.2.1 in /usr/local/lib/python3.8/dist-packages (from google-auth<3,>=1.6.3->tensorboard<2.12,>=2.11->tensorflow>=2.0->keras-tuner) (0.2.8)\n",
            "Requirement already satisfied: cachetools<6.0,>=2.0.0 in /usr/local/lib/python3.8/dist-packages (from google-auth<3,>=1.6.3->tensorboard<2.12,>=2.11->tensorflow>=2.0->keras-tuner) (5.3.0)\n",
            "Requirement already satisfied: requests-oauthlib>=0.7.0 in /usr/local/lib/python3.8/dist-packages (from google-auth-oauthlib<0.5,>=0.4.1->tensorboard<2.12,>=2.11->tensorflow>=2.0->keras-tuner) (1.3.1)\n",
            "Requirement already satisfied: importlib-metadata>=4.4 in /usr/local/lib/python3.8/dist-packages (from markdown>=2.6.8->tensorboard<2.12,>=2.11->tensorflow>=2.0->keras-tuner) (6.0.0)\n",
            "Requirement already satisfied: zipp>=0.5 in /usr/local/lib/python3.8/dist-packages (from importlib-metadata>=4.4->markdown>=2.6.8->tensorboard<2.12,>=2.11->tensorflow>=2.0->keras-tuner) (3.14.0)\n",
            "Requirement already satisfied: pyasn1<0.5.0,>=0.4.6 in /usr/local/lib/python3.8/dist-packages (from pyasn1-modules>=0.2.1->google-auth<3,>=1.6.3->tensorboard<2.12,>=2.11->tensorflow>=2.0->keras-tuner) (0.4.8)\n",
            "Requirement already satisfied: oauthlib>=3.0.0 in /usr/local/lib/python3.8/dist-packages (from requests-oauthlib>=0.7.0->google-auth-oauthlib<0.5,>=0.4.1->tensorboard<2.12,>=2.11->tensorflow>=2.0->keras-tuner) (3.2.2)\n"
          ]
        }
      ]
    },
    {
      "cell_type": "code",
      "source": [
        "import keras_tuner as kt"
      ],
      "metadata": {
        "id": "Epw7RHunznbP"
      },
      "execution_count": 15,
      "outputs": []
    },
    {
      "cell_type": "code",
      "source": [
        "def build_model(hp):\n",
        "\n",
        "  model = Sequential()\n",
        "  model.add(Dense(32,activation='relu',input_dim = 8))\n",
        "  model.add(Dense(1,activation='sigmoid'))\n",
        "\n",
        "  optimizer = hp.Choice('optimizer',values = ['adam','sgd','rmsprop','adadelta'])\n",
        "\n",
        "  model.compile(optimizer=optimizer, loss='binary_crossentropy',metrics=['accuracy'])\n",
        "\n",
        "  return model"
      ],
      "metadata": {
        "id": "pmUrmltyzvQL"
      },
      "execution_count": 16,
      "outputs": []
    },
    {
      "cell_type": "code",
      "source": [
        "tuner = kt.RandomSearch(build_model,\n",
        "                        objective = 'val_accuracy',\n",
        "                        max_trials=5)"
      ],
      "metadata": {
        "id": "PAaeq_QB3FUx"
      },
      "execution_count": 17,
      "outputs": []
    },
    {
      "cell_type": "code",
      "source": [
        "tuner.search(X_train,y_train,epochs=5,validation_data=(X_test,y_test))"
      ],
      "metadata": {
        "id": "o-Nvspc13g_J"
      },
      "execution_count": 18,
      "outputs": []
    },
    {
      "cell_type": "code",
      "source": [
        "tuner.get_best_hyperparameters()[0].values"
      ],
      "metadata": {
        "colab": {
          "base_uri": "https://localhost:8080/"
        },
        "id": "rFWgHG5k31q3",
        "outputId": "bbfc76a4-8c6d-47e4-e831-8d1d20f2ee94"
      },
      "execution_count": 19,
      "outputs": [
        {
          "output_type": "execute_result",
          "data": {
            "text/plain": [
              "{'optimizer': 'rmsprop'}"
            ]
          },
          "metadata": {},
          "execution_count": 19
        }
      ]
    },
    {
      "cell_type": "code",
      "source": [
        "model = tuner.get_best_models(num_models=1)[0]"
      ],
      "metadata": {
        "id": "SwXbi3m44Pin"
      },
      "execution_count": 20,
      "outputs": []
    },
    {
      "cell_type": "code",
      "source": [
        "model.fit(X_train,y_train, batch_size=32,epochs = 100,initial_epoch=6,validation_data=(X_test, y_test))"
      ],
      "metadata": {
        "colab": {
          "base_uri": "https://localhost:8080/"
        },
        "id": "Us8H0Iog42GL",
        "outputId": "81e78d67-0479-4cd0-da62-34f4866902f6"
      },
      "execution_count": 21,
      "outputs": [
        {
          "output_type": "stream",
          "name": "stdout",
          "text": [
            "Epoch 7/100\n",
            "20/20 [==============================] - 1s 15ms/step - loss: 0.5277 - accuracy: 0.7573 - val_loss: 0.5212 - val_accuracy: 0.7727\n",
            "Epoch 8/100\n",
            "20/20 [==============================] - 0s 8ms/step - loss: 0.5118 - accuracy: 0.7622 - val_loss: 0.5087 - val_accuracy: 0.7792\n",
            "Epoch 9/100\n",
            "20/20 [==============================] - 0s 7ms/step - loss: 0.4993 - accuracy: 0.7720 - val_loss: 0.4990 - val_accuracy: 0.7727\n",
            "Epoch 10/100\n",
            "20/20 [==============================] - 0s 5ms/step - loss: 0.4897 - accuracy: 0.7736 - val_loss: 0.4916 - val_accuracy: 0.7727\n",
            "Epoch 11/100\n",
            "20/20 [==============================] - 0s 5ms/step - loss: 0.4821 - accuracy: 0.7769 - val_loss: 0.4862 - val_accuracy: 0.7727\n",
            "Epoch 12/100\n",
            "20/20 [==============================] - 0s 5ms/step - loss: 0.4763 - accuracy: 0.7720 - val_loss: 0.4810 - val_accuracy: 0.7662\n",
            "Epoch 13/100\n",
            "20/20 [==============================] - 0s 6ms/step - loss: 0.4711 - accuracy: 0.7752 - val_loss: 0.4767 - val_accuracy: 0.7662\n",
            "Epoch 14/100\n",
            "20/20 [==============================] - 0s 5ms/step - loss: 0.4676 - accuracy: 0.7769 - val_loss: 0.4733 - val_accuracy: 0.7662\n",
            "Epoch 15/100\n",
            "20/20 [==============================] - 0s 6ms/step - loss: 0.4641 - accuracy: 0.7769 - val_loss: 0.4714 - val_accuracy: 0.7727\n",
            "Epoch 16/100\n",
            "20/20 [==============================] - 0s 6ms/step - loss: 0.4614 - accuracy: 0.7834 - val_loss: 0.4700 - val_accuracy: 0.7662\n",
            "Epoch 17/100\n",
            "20/20 [==============================] - 0s 6ms/step - loss: 0.4590 - accuracy: 0.7801 - val_loss: 0.4695 - val_accuracy: 0.7662\n",
            "Epoch 18/100\n",
            "20/20 [==============================] - 0s 5ms/step - loss: 0.4572 - accuracy: 0.7801 - val_loss: 0.4675 - val_accuracy: 0.7662\n",
            "Epoch 19/100\n",
            "20/20 [==============================] - 0s 5ms/step - loss: 0.4553 - accuracy: 0.7801 - val_loss: 0.4673 - val_accuracy: 0.7597\n",
            "Epoch 20/100\n",
            "20/20 [==============================] - 0s 5ms/step - loss: 0.4539 - accuracy: 0.7834 - val_loss: 0.4654 - val_accuracy: 0.7597\n",
            "Epoch 21/100\n",
            "20/20 [==============================] - 0s 5ms/step - loss: 0.4531 - accuracy: 0.7818 - val_loss: 0.4639 - val_accuracy: 0.7597\n",
            "Epoch 22/100\n",
            "20/20 [==============================] - 0s 5ms/step - loss: 0.4516 - accuracy: 0.7769 - val_loss: 0.4645 - val_accuracy: 0.7597\n",
            "Epoch 23/100\n",
            "20/20 [==============================] - 0s 5ms/step - loss: 0.4508 - accuracy: 0.7818 - val_loss: 0.4658 - val_accuracy: 0.7662\n",
            "Epoch 24/100\n",
            "20/20 [==============================] - 0s 6ms/step - loss: 0.4499 - accuracy: 0.7801 - val_loss: 0.4659 - val_accuracy: 0.7792\n",
            "Epoch 25/100\n",
            "20/20 [==============================] - 0s 5ms/step - loss: 0.4490 - accuracy: 0.7818 - val_loss: 0.4652 - val_accuracy: 0.7792\n",
            "Epoch 26/100\n",
            "20/20 [==============================] - 0s 5ms/step - loss: 0.4478 - accuracy: 0.7866 - val_loss: 0.4651 - val_accuracy: 0.7792\n",
            "Epoch 27/100\n",
            "20/20 [==============================] - 0s 6ms/step - loss: 0.4472 - accuracy: 0.7818 - val_loss: 0.4646 - val_accuracy: 0.7792\n",
            "Epoch 28/100\n",
            "20/20 [==============================] - 0s 5ms/step - loss: 0.4462 - accuracy: 0.7866 - val_loss: 0.4633 - val_accuracy: 0.7727\n",
            "Epoch 29/100\n",
            "20/20 [==============================] - 0s 5ms/step - loss: 0.4455 - accuracy: 0.7883 - val_loss: 0.4637 - val_accuracy: 0.7792\n",
            "Epoch 30/100\n",
            "20/20 [==============================] - 0s 5ms/step - loss: 0.4446 - accuracy: 0.7883 - val_loss: 0.4641 - val_accuracy: 0.7792\n",
            "Epoch 31/100\n",
            "20/20 [==============================] - 0s 5ms/step - loss: 0.4440 - accuracy: 0.7834 - val_loss: 0.4629 - val_accuracy: 0.7727\n",
            "Epoch 32/100\n",
            "20/20 [==============================] - 0s 5ms/step - loss: 0.4430 - accuracy: 0.7883 - val_loss: 0.4640 - val_accuracy: 0.7792\n",
            "Epoch 33/100\n",
            "20/20 [==============================] - 0s 5ms/step - loss: 0.4426 - accuracy: 0.7866 - val_loss: 0.4632 - val_accuracy: 0.7792\n",
            "Epoch 34/100\n",
            "20/20 [==============================] - 0s 6ms/step - loss: 0.4420 - accuracy: 0.7834 - val_loss: 0.4628 - val_accuracy: 0.7727\n",
            "Epoch 35/100\n",
            "20/20 [==============================] - 0s 6ms/step - loss: 0.4411 - accuracy: 0.7883 - val_loss: 0.4640 - val_accuracy: 0.7727\n",
            "Epoch 36/100\n",
            "20/20 [==============================] - 0s 6ms/step - loss: 0.4405 - accuracy: 0.7866 - val_loss: 0.4615 - val_accuracy: 0.7727\n",
            "Epoch 37/100\n",
            "20/20 [==============================] - 0s 6ms/step - loss: 0.4401 - accuracy: 0.7834 - val_loss: 0.4614 - val_accuracy: 0.7662\n",
            "Epoch 38/100\n",
            "20/20 [==============================] - 0s 6ms/step - loss: 0.4397 - accuracy: 0.7883 - val_loss: 0.4620 - val_accuracy: 0.7662\n",
            "Epoch 39/100\n",
            "20/20 [==============================] - 0s 5ms/step - loss: 0.4392 - accuracy: 0.7932 - val_loss: 0.4615 - val_accuracy: 0.7727\n",
            "Epoch 40/100\n",
            "20/20 [==============================] - 0s 8ms/step - loss: 0.4389 - accuracy: 0.7915 - val_loss: 0.4606 - val_accuracy: 0.7727\n",
            "Epoch 41/100\n",
            "20/20 [==============================] - 0s 10ms/step - loss: 0.4380 - accuracy: 0.7899 - val_loss: 0.4613 - val_accuracy: 0.7792\n",
            "Epoch 42/100\n",
            "20/20 [==============================] - 0s 5ms/step - loss: 0.4375 - accuracy: 0.7866 - val_loss: 0.4606 - val_accuracy: 0.7727\n",
            "Epoch 43/100\n",
            "20/20 [==============================] - 0s 6ms/step - loss: 0.4367 - accuracy: 0.7899 - val_loss: 0.4605 - val_accuracy: 0.7727\n",
            "Epoch 44/100\n",
            "20/20 [==============================] - 0s 7ms/step - loss: 0.4366 - accuracy: 0.7899 - val_loss: 0.4593 - val_accuracy: 0.7727\n",
            "Epoch 45/100\n",
            "20/20 [==============================] - 0s 7ms/step - loss: 0.4363 - accuracy: 0.7964 - val_loss: 0.4590 - val_accuracy: 0.7727\n",
            "Epoch 46/100\n",
            "20/20 [==============================] - 0s 8ms/step - loss: 0.4353 - accuracy: 0.7883 - val_loss: 0.4588 - val_accuracy: 0.7727\n",
            "Epoch 47/100\n",
            "20/20 [==============================] - 0s 7ms/step - loss: 0.4351 - accuracy: 0.7850 - val_loss: 0.4610 - val_accuracy: 0.7792\n",
            "Epoch 48/100\n",
            "20/20 [==============================] - 0s 7ms/step - loss: 0.4346 - accuracy: 0.7915 - val_loss: 0.4608 - val_accuracy: 0.7727\n",
            "Epoch 49/100\n",
            "20/20 [==============================] - 0s 7ms/step - loss: 0.4343 - accuracy: 0.7899 - val_loss: 0.4607 - val_accuracy: 0.7792\n",
            "Epoch 50/100\n",
            "20/20 [==============================] - 0s 7ms/step - loss: 0.4340 - accuracy: 0.7883 - val_loss: 0.4606 - val_accuracy: 0.7792\n",
            "Epoch 51/100\n",
            "20/20 [==============================] - 0s 7ms/step - loss: 0.4332 - accuracy: 0.7932 - val_loss: 0.4597 - val_accuracy: 0.7727\n",
            "Epoch 52/100\n",
            "20/20 [==============================] - 0s 8ms/step - loss: 0.4331 - accuracy: 0.7866 - val_loss: 0.4591 - val_accuracy: 0.7727\n",
            "Epoch 53/100\n",
            "20/20 [==============================] - 0s 7ms/step - loss: 0.4325 - accuracy: 0.7964 - val_loss: 0.4596 - val_accuracy: 0.7727\n",
            "Epoch 54/100\n",
            "20/20 [==============================] - 0s 7ms/step - loss: 0.4324 - accuracy: 0.7948 - val_loss: 0.4597 - val_accuracy: 0.7727\n",
            "Epoch 55/100\n",
            "20/20 [==============================] - 0s 7ms/step - loss: 0.4314 - accuracy: 0.7980 - val_loss: 0.4599 - val_accuracy: 0.7727\n",
            "Epoch 56/100\n",
            "20/20 [==============================] - 0s 9ms/step - loss: 0.4311 - accuracy: 0.7980 - val_loss: 0.4610 - val_accuracy: 0.7727\n",
            "Epoch 57/100\n",
            "20/20 [==============================] - 0s 8ms/step - loss: 0.4306 - accuracy: 0.7932 - val_loss: 0.4595 - val_accuracy: 0.7727\n",
            "Epoch 58/100\n",
            "20/20 [==============================] - 0s 7ms/step - loss: 0.4301 - accuracy: 0.7932 - val_loss: 0.4599 - val_accuracy: 0.7662\n",
            "Epoch 59/100\n",
            "20/20 [==============================] - 0s 7ms/step - loss: 0.4296 - accuracy: 0.7850 - val_loss: 0.4620 - val_accuracy: 0.7662\n",
            "Epoch 60/100\n",
            "20/20 [==============================] - 0s 6ms/step - loss: 0.4294 - accuracy: 0.7932 - val_loss: 0.4605 - val_accuracy: 0.7662\n",
            "Epoch 61/100\n",
            "20/20 [==============================] - 0s 6ms/step - loss: 0.4293 - accuracy: 0.7915 - val_loss: 0.4608 - val_accuracy: 0.7727\n",
            "Epoch 62/100\n",
            "20/20 [==============================] - 0s 6ms/step - loss: 0.4284 - accuracy: 0.7932 - val_loss: 0.4620 - val_accuracy: 0.7727\n",
            "Epoch 63/100\n",
            "20/20 [==============================] - 0s 12ms/step - loss: 0.4284 - accuracy: 0.7948 - val_loss: 0.4602 - val_accuracy: 0.7662\n",
            "Epoch 64/100\n",
            "20/20 [==============================] - 0s 9ms/step - loss: 0.4283 - accuracy: 0.7932 - val_loss: 0.4609 - val_accuracy: 0.7662\n",
            "Epoch 65/100\n",
            "20/20 [==============================] - 0s 8ms/step - loss: 0.4276 - accuracy: 0.7980 - val_loss: 0.4608 - val_accuracy: 0.7662\n",
            "Epoch 66/100\n",
            "20/20 [==============================] - 0s 10ms/step - loss: 0.4273 - accuracy: 0.7883 - val_loss: 0.4598 - val_accuracy: 0.7662\n",
            "Epoch 67/100\n",
            "20/20 [==============================] - 0s 10ms/step - loss: 0.4272 - accuracy: 0.7964 - val_loss: 0.4590 - val_accuracy: 0.7662\n",
            "Epoch 68/100\n",
            "20/20 [==============================] - 0s 10ms/step - loss: 0.4269 - accuracy: 0.7948 - val_loss: 0.4601 - val_accuracy: 0.7662\n",
            "Epoch 69/100\n",
            "20/20 [==============================] - 0s 11ms/step - loss: 0.4264 - accuracy: 0.7948 - val_loss: 0.4587 - val_accuracy: 0.7727\n",
            "Epoch 70/100\n",
            "20/20 [==============================] - 0s 10ms/step - loss: 0.4258 - accuracy: 0.7932 - val_loss: 0.4595 - val_accuracy: 0.7792\n",
            "Epoch 71/100\n",
            "20/20 [==============================] - 0s 9ms/step - loss: 0.4253 - accuracy: 0.7964 - val_loss: 0.4608 - val_accuracy: 0.7727\n",
            "Epoch 72/100\n",
            "20/20 [==============================] - 0s 8ms/step - loss: 0.4252 - accuracy: 0.7980 - val_loss: 0.4589 - val_accuracy: 0.7792\n",
            "Epoch 73/100\n",
            "20/20 [==============================] - 0s 14ms/step - loss: 0.4249 - accuracy: 0.7883 - val_loss: 0.4586 - val_accuracy: 0.7792\n",
            "Epoch 74/100\n",
            "20/20 [==============================] - 0s 11ms/step - loss: 0.4248 - accuracy: 0.7915 - val_loss: 0.4594 - val_accuracy: 0.7727\n",
            "Epoch 75/100\n",
            "20/20 [==============================] - 0s 12ms/step - loss: 0.4242 - accuracy: 0.7980 - val_loss: 0.4590 - val_accuracy: 0.7727\n",
            "Epoch 76/100\n",
            "20/20 [==============================] - 0s 11ms/step - loss: 0.4242 - accuracy: 0.7948 - val_loss: 0.4600 - val_accuracy: 0.7727\n",
            "Epoch 77/100\n",
            "20/20 [==============================] - 0s 8ms/step - loss: 0.4236 - accuracy: 0.7948 - val_loss: 0.4609 - val_accuracy: 0.7792\n",
            "Epoch 78/100\n",
            "20/20 [==============================] - 0s 9ms/step - loss: 0.4235 - accuracy: 0.7980 - val_loss: 0.4617 - val_accuracy: 0.7857\n",
            "Epoch 79/100\n",
            "20/20 [==============================] - 0s 8ms/step - loss: 0.4230 - accuracy: 0.7948 - val_loss: 0.4629 - val_accuracy: 0.7857\n",
            "Epoch 80/100\n",
            "20/20 [==============================] - 0s 8ms/step - loss: 0.4229 - accuracy: 0.7964 - val_loss: 0.4613 - val_accuracy: 0.7727\n",
            "Epoch 81/100\n",
            "20/20 [==============================] - 0s 8ms/step - loss: 0.4223 - accuracy: 0.7964 - val_loss: 0.4623 - val_accuracy: 0.7727\n",
            "Epoch 82/100\n",
            "20/20 [==============================] - 0s 10ms/step - loss: 0.4219 - accuracy: 0.8013 - val_loss: 0.4619 - val_accuracy: 0.7727\n",
            "Epoch 83/100\n",
            "20/20 [==============================] - 0s 9ms/step - loss: 0.4215 - accuracy: 0.7964 - val_loss: 0.4615 - val_accuracy: 0.7727\n",
            "Epoch 84/100\n",
            "20/20 [==============================] - 0s 13ms/step - loss: 0.4214 - accuracy: 0.7964 - val_loss: 0.4607 - val_accuracy: 0.7727\n",
            "Epoch 85/100\n",
            "20/20 [==============================] - 0s 10ms/step - loss: 0.4215 - accuracy: 0.7980 - val_loss: 0.4629 - val_accuracy: 0.7792\n",
            "Epoch 86/100\n",
            "20/20 [==============================] - 0s 11ms/step - loss: 0.4209 - accuracy: 0.7980 - val_loss: 0.4636 - val_accuracy: 0.7857\n",
            "Epoch 87/100\n",
            "20/20 [==============================] - 0s 9ms/step - loss: 0.4204 - accuracy: 0.7997 - val_loss: 0.4629 - val_accuracy: 0.7857\n",
            "Epoch 88/100\n",
            "20/20 [==============================] - 0s 9ms/step - loss: 0.4207 - accuracy: 0.7980 - val_loss: 0.4627 - val_accuracy: 0.7727\n",
            "Epoch 89/100\n",
            "20/20 [==============================] - 0s 11ms/step - loss: 0.4198 - accuracy: 0.7980 - val_loss: 0.4624 - val_accuracy: 0.7727\n",
            "Epoch 90/100\n",
            "20/20 [==============================] - 0s 14ms/step - loss: 0.4195 - accuracy: 0.7997 - val_loss: 0.4611 - val_accuracy: 0.7727\n",
            "Epoch 91/100\n",
            "20/20 [==============================] - 0s 8ms/step - loss: 0.4194 - accuracy: 0.7997 - val_loss: 0.4605 - val_accuracy: 0.7727\n",
            "Epoch 92/100\n",
            "20/20 [==============================] - 0s 10ms/step - loss: 0.4189 - accuracy: 0.7980 - val_loss: 0.4606 - val_accuracy: 0.7727\n",
            "Epoch 93/100\n",
            "20/20 [==============================] - 0s 13ms/step - loss: 0.4193 - accuracy: 0.8029 - val_loss: 0.4612 - val_accuracy: 0.7727\n",
            "Epoch 94/100\n",
            "20/20 [==============================] - 0s 8ms/step - loss: 0.4183 - accuracy: 0.8013 - val_loss: 0.4632 - val_accuracy: 0.7792\n",
            "Epoch 95/100\n",
            "20/20 [==============================] - 0s 11ms/step - loss: 0.4185 - accuracy: 0.8013 - val_loss: 0.4637 - val_accuracy: 0.7792\n",
            "Epoch 96/100\n",
            "20/20 [==============================] - 0s 14ms/step - loss: 0.4182 - accuracy: 0.7997 - val_loss: 0.4636 - val_accuracy: 0.7792\n",
            "Epoch 97/100\n",
            "20/20 [==============================] - 0s 12ms/step - loss: 0.4176 - accuracy: 0.8029 - val_loss: 0.4622 - val_accuracy: 0.7727\n",
            "Epoch 98/100\n",
            "20/20 [==============================] - 0s 16ms/step - loss: 0.4174 - accuracy: 0.7997 - val_loss: 0.4637 - val_accuracy: 0.7792\n",
            "Epoch 99/100\n",
            "20/20 [==============================] - 0s 10ms/step - loss: 0.4175 - accuracy: 0.7964 - val_loss: 0.4629 - val_accuracy: 0.7792\n",
            "Epoch 100/100\n",
            "20/20 [==============================] - 0s 15ms/step - loss: 0.4168 - accuracy: 0.7997 - val_loss: 0.4644 - val_accuracy: 0.7792\n"
          ]
        },
        {
          "output_type": "execute_result",
          "data": {
            "text/plain": [
              "<keras.callbacks.History at 0x7f4412153c70>"
            ]
          },
          "metadata": {},
          "execution_count": 21
        }
      ]
    },
    {
      "cell_type": "code",
      "source": [
        "def build_model(hp):\n",
        "  model = Sequential()\n",
        "\n",
        "  units = hp.Int('units',min_value = 8, max_value = 128,step=8)\n",
        "\n",
        "  model.add(Dense(units = units, activation = 'relu',input_dim=8))\n",
        "  model.add(Dense(1,activation='sigmoid'))\n",
        "\n",
        "  model.compile(optimizer = 'rmsprop',loss = 'binary_crossentropy', metrics=['accuracy'])\n",
        "\n",
        "  return model"
      ],
      "metadata": {
        "id": "MSu42r2K5eSo"
      },
      "execution_count": 22,
      "outputs": []
    },
    {
      "cell_type": "code",
      "source": [
        "tuner = kt.RandomSearch(build_model,\n",
        "                        objective = 'val_accuracy',\n",
        "                       max_trials=5,\n",
        "                        directory='mydir',\n",
        "                        project_name = 'my_project')"
      ],
      "metadata": {
        "id": "WMeVmM5t60Af"
      },
      "execution_count": 23,
      "outputs": []
    },
    {
      "cell_type": "code",
      "source": [
        "tuner.search(X_train,y_train,epochs = 5,validation_data=(X_test,y_test))"
      ],
      "metadata": {
        "id": "7Ns9cOmJ8Dmt"
      },
      "execution_count": 24,
      "outputs": []
    },
    {
      "cell_type": "code",
      "source": [
        "tuner.get_best_hyperparameters()[0].values"
      ],
      "metadata": {
        "colab": {
          "base_uri": "https://localhost:8080/"
        },
        "id": "8EUcW1hb-G0N",
        "outputId": "0c403910-46ae-4fc7-c83a-83342190df4b"
      },
      "execution_count": 25,
      "outputs": [
        {
          "output_type": "execute_result",
          "data": {
            "text/plain": [
              "{'units': 112}"
            ]
          },
          "metadata": {},
          "execution_count": 25
        }
      ]
    },
    {
      "cell_type": "code",
      "source": [
        "model = tuner.get_best_models(num_models=1)[0]"
      ],
      "metadata": {
        "id": "SeKhlocs_6fx"
      },
      "execution_count": 26,
      "outputs": []
    },
    {
      "cell_type": "code",
      "source": [
        "model.fit(X_train,y_train,epochs=100, initial_epoch=6, validation_data=(X_train,y_train))"
      ],
      "metadata": {
        "colab": {
          "base_uri": "https://localhost:8080/"
        },
        "id": "0rFUkHBDAGEm",
        "outputId": "0eb87161-dfe6-43f0-a559-44978e1c534e"
      },
      "execution_count": 27,
      "outputs": [
        {
          "output_type": "stream",
          "name": "stdout",
          "text": [
            "Epoch 7/100\n",
            "20/20 [==============================] - 2s 22ms/step - loss: 0.4965 - accuracy: 0.7720 - val_loss: 0.4838 - val_accuracy: 0.7752\n",
            "Epoch 8/100\n",
            "20/20 [==============================] - 0s 16ms/step - loss: 0.4814 - accuracy: 0.7769 - val_loss: 0.4718 - val_accuracy: 0.7834\n",
            "Epoch 9/100\n",
            "20/20 [==============================] - 0s 11ms/step - loss: 0.4713 - accuracy: 0.7834 - val_loss: 0.4636 - val_accuracy: 0.7899\n",
            "Epoch 10/100\n",
            "20/20 [==============================] - 0s 9ms/step - loss: 0.4648 - accuracy: 0.7850 - val_loss: 0.4578 - val_accuracy: 0.7899\n",
            "Epoch 11/100\n",
            "20/20 [==============================] - 0s 10ms/step - loss: 0.4593 - accuracy: 0.7883 - val_loss: 0.4537 - val_accuracy: 0.7915\n",
            "Epoch 12/100\n",
            "20/20 [==============================] - 0s 9ms/step - loss: 0.4556 - accuracy: 0.7866 - val_loss: 0.4505 - val_accuracy: 0.7915\n",
            "Epoch 13/100\n",
            "20/20 [==============================] - 0s 10ms/step - loss: 0.4526 - accuracy: 0.7915 - val_loss: 0.4479 - val_accuracy: 0.7899\n",
            "Epoch 14/100\n",
            "20/20 [==============================] - 0s 14ms/step - loss: 0.4506 - accuracy: 0.7866 - val_loss: 0.4457 - val_accuracy: 0.7915\n",
            "Epoch 15/100\n",
            "20/20 [==============================] - 0s 9ms/step - loss: 0.4482 - accuracy: 0.7850 - val_loss: 0.4436 - val_accuracy: 0.7899\n",
            "Epoch 16/100\n",
            "20/20 [==============================] - 0s 7ms/step - loss: 0.4466 - accuracy: 0.7850 - val_loss: 0.4418 - val_accuracy: 0.7899\n",
            "Epoch 17/100\n",
            "20/20 [==============================] - 0s 6ms/step - loss: 0.4444 - accuracy: 0.7883 - val_loss: 0.4411 - val_accuracy: 0.7850\n",
            "Epoch 18/100\n",
            "20/20 [==============================] - 0s 8ms/step - loss: 0.4439 - accuracy: 0.7866 - val_loss: 0.4387 - val_accuracy: 0.7899\n",
            "Epoch 19/100\n",
            "20/20 [==============================] - 0s 8ms/step - loss: 0.4416 - accuracy: 0.7883 - val_loss: 0.4377 - val_accuracy: 0.7850\n",
            "Epoch 20/100\n",
            "20/20 [==============================] - 0s 6ms/step - loss: 0.4407 - accuracy: 0.7834 - val_loss: 0.4359 - val_accuracy: 0.7899\n",
            "Epoch 21/100\n",
            "20/20 [==============================] - 0s 7ms/step - loss: 0.4390 - accuracy: 0.7850 - val_loss: 0.4348 - val_accuracy: 0.7850\n",
            "Epoch 22/100\n",
            "20/20 [==============================] - 0s 7ms/step - loss: 0.4381 - accuracy: 0.7834 - val_loss: 0.4336 - val_accuracy: 0.7883\n",
            "Epoch 23/100\n",
            "20/20 [==============================] - 0s 8ms/step - loss: 0.4366 - accuracy: 0.7866 - val_loss: 0.4323 - val_accuracy: 0.7866\n",
            "Epoch 24/100\n",
            "20/20 [==============================] - 0s 8ms/step - loss: 0.4355 - accuracy: 0.7818 - val_loss: 0.4315 - val_accuracy: 0.7866\n",
            "Epoch 25/100\n",
            "20/20 [==============================] - 0s 6ms/step - loss: 0.4349 - accuracy: 0.7818 - val_loss: 0.4299 - val_accuracy: 0.7801\n",
            "Epoch 26/100\n",
            "20/20 [==============================] - 0s 9ms/step - loss: 0.4330 - accuracy: 0.7818 - val_loss: 0.4294 - val_accuracy: 0.7866\n",
            "Epoch 27/100\n",
            "20/20 [==============================] - 0s 10ms/step - loss: 0.4321 - accuracy: 0.7883 - val_loss: 0.4281 - val_accuracy: 0.7866\n",
            "Epoch 28/100\n",
            "20/20 [==============================] - 0s 6ms/step - loss: 0.4312 - accuracy: 0.7915 - val_loss: 0.4272 - val_accuracy: 0.7915\n",
            "Epoch 29/100\n",
            "20/20 [==============================] - 0s 8ms/step - loss: 0.4311 - accuracy: 0.7883 - val_loss: 0.4262 - val_accuracy: 0.7915\n",
            "Epoch 30/100\n",
            "20/20 [==============================] - 0s 7ms/step - loss: 0.4303 - accuracy: 0.7915 - val_loss: 0.4253 - val_accuracy: 0.7915\n",
            "Epoch 31/100\n",
            "20/20 [==============================] - 0s 8ms/step - loss: 0.4294 - accuracy: 0.7834 - val_loss: 0.4245 - val_accuracy: 0.7932\n",
            "Epoch 32/100\n",
            "20/20 [==============================] - 0s 7ms/step - loss: 0.4278 - accuracy: 0.7899 - val_loss: 0.4236 - val_accuracy: 0.7932\n",
            "Epoch 33/100\n",
            "20/20 [==============================] - 0s 7ms/step - loss: 0.4270 - accuracy: 0.7964 - val_loss: 0.4228 - val_accuracy: 0.7948\n",
            "Epoch 34/100\n",
            "20/20 [==============================] - 0s 8ms/step - loss: 0.4260 - accuracy: 0.7948 - val_loss: 0.4221 - val_accuracy: 0.7915\n",
            "Epoch 35/100\n",
            "20/20 [==============================] - 0s 8ms/step - loss: 0.4257 - accuracy: 0.7883 - val_loss: 0.4214 - val_accuracy: 0.7948\n",
            "Epoch 36/100\n",
            "20/20 [==============================] - 0s 8ms/step - loss: 0.4251 - accuracy: 0.7948 - val_loss: 0.4204 - val_accuracy: 0.7915\n",
            "Epoch 37/100\n",
            "20/20 [==============================] - 0s 7ms/step - loss: 0.4233 - accuracy: 0.7915 - val_loss: 0.4203 - val_accuracy: 0.7883\n",
            "Epoch 38/100\n",
            "20/20 [==============================] - 0s 6ms/step - loss: 0.4235 - accuracy: 0.7899 - val_loss: 0.4190 - val_accuracy: 0.7964\n",
            "Epoch 39/100\n",
            "20/20 [==============================] - 0s 8ms/step - loss: 0.4219 - accuracy: 0.7948 - val_loss: 0.4181 - val_accuracy: 0.7915\n",
            "Epoch 40/100\n",
            "20/20 [==============================] - 0s 6ms/step - loss: 0.4220 - accuracy: 0.7883 - val_loss: 0.4175 - val_accuracy: 0.7964\n",
            "Epoch 41/100\n",
            "20/20 [==============================] - 0s 7ms/step - loss: 0.4210 - accuracy: 0.7948 - val_loss: 0.4165 - val_accuracy: 0.7980\n",
            "Epoch 42/100\n",
            "20/20 [==============================] - 0s 7ms/step - loss: 0.4202 - accuracy: 0.7915 - val_loss: 0.4155 - val_accuracy: 0.7932\n",
            "Epoch 43/100\n",
            "20/20 [==============================] - 0s 7ms/step - loss: 0.4193 - accuracy: 0.7964 - val_loss: 0.4150 - val_accuracy: 0.7997\n",
            "Epoch 44/100\n",
            "20/20 [==============================] - 0s 6ms/step - loss: 0.4196 - accuracy: 0.8013 - val_loss: 0.4142 - val_accuracy: 0.8013\n",
            "Epoch 45/100\n",
            "20/20 [==============================] - 0s 6ms/step - loss: 0.4179 - accuracy: 0.7932 - val_loss: 0.4136 - val_accuracy: 0.8046\n",
            "Epoch 46/100\n",
            "20/20 [==============================] - 0s 8ms/step - loss: 0.4182 - accuracy: 0.7997 - val_loss: 0.4130 - val_accuracy: 0.8013\n",
            "Epoch 47/100\n",
            "20/20 [==============================] - 0s 6ms/step - loss: 0.4167 - accuracy: 0.8029 - val_loss: 0.4125 - val_accuracy: 0.7932\n",
            "Epoch 48/100\n",
            "20/20 [==============================] - 0s 8ms/step - loss: 0.4168 - accuracy: 0.7899 - val_loss: 0.4116 - val_accuracy: 0.7980\n",
            "Epoch 49/100\n",
            "20/20 [==============================] - 0s 7ms/step - loss: 0.4149 - accuracy: 0.8013 - val_loss: 0.4108 - val_accuracy: 0.7964\n",
            "Epoch 50/100\n",
            "20/20 [==============================] - 0s 7ms/step - loss: 0.4147 - accuracy: 0.7899 - val_loss: 0.4097 - val_accuracy: 0.7980\n",
            "Epoch 51/100\n",
            "20/20 [==============================] - 0s 6ms/step - loss: 0.4147 - accuracy: 0.8013 - val_loss: 0.4094 - val_accuracy: 0.8062\n",
            "Epoch 52/100\n",
            "20/20 [==============================] - 0s 9ms/step - loss: 0.4125 - accuracy: 0.8062 - val_loss: 0.4085 - val_accuracy: 0.8046\n",
            "Epoch 53/100\n",
            "20/20 [==============================] - 0s 7ms/step - loss: 0.4122 - accuracy: 0.7980 - val_loss: 0.4078 - val_accuracy: 0.7980\n",
            "Epoch 54/100\n",
            "20/20 [==============================] - 0s 8ms/step - loss: 0.4120 - accuracy: 0.7932 - val_loss: 0.4071 - val_accuracy: 0.8013\n",
            "Epoch 55/100\n",
            "20/20 [==============================] - 0s 6ms/step - loss: 0.4111 - accuracy: 0.8013 - val_loss: 0.4068 - val_accuracy: 0.7997\n",
            "Epoch 56/100\n",
            "20/20 [==============================] - 0s 7ms/step - loss: 0.4109 - accuracy: 0.7980 - val_loss: 0.4067 - val_accuracy: 0.8062\n",
            "Epoch 57/100\n",
            "20/20 [==============================] - 0s 7ms/step - loss: 0.4101 - accuracy: 0.8111 - val_loss: 0.4051 - val_accuracy: 0.8046\n",
            "Epoch 58/100\n",
            "20/20 [==============================] - 0s 6ms/step - loss: 0.4087 - accuracy: 0.7980 - val_loss: 0.4049 - val_accuracy: 0.8046\n",
            "Epoch 59/100\n",
            "20/20 [==============================] - 0s 6ms/step - loss: 0.4092 - accuracy: 0.7980 - val_loss: 0.4037 - val_accuracy: 0.8111\n",
            "Epoch 60/100\n",
            "20/20 [==============================] - 0s 8ms/step - loss: 0.4069 - accuracy: 0.8062 - val_loss: 0.4033 - val_accuracy: 0.8078\n",
            "Epoch 61/100\n",
            "20/20 [==============================] - 0s 13ms/step - loss: 0.4072 - accuracy: 0.8013 - val_loss: 0.4025 - val_accuracy: 0.8029\n",
            "Epoch 62/100\n",
            "20/20 [==============================] - 0s 11ms/step - loss: 0.4063 - accuracy: 0.8046 - val_loss: 0.4021 - val_accuracy: 0.8062\n",
            "Epoch 63/100\n",
            "20/20 [==============================] - 0s 16ms/step - loss: 0.4053 - accuracy: 0.8046 - val_loss: 0.4016 - val_accuracy: 0.8062\n",
            "Epoch 64/100\n",
            "20/20 [==============================] - 0s 10ms/step - loss: 0.4055 - accuracy: 0.8046 - val_loss: 0.4004 - val_accuracy: 0.8094\n",
            "Epoch 65/100\n",
            "20/20 [==============================] - 0s 15ms/step - loss: 0.4044 - accuracy: 0.8046 - val_loss: 0.4001 - val_accuracy: 0.8160\n",
            "Epoch 66/100\n",
            "20/20 [==============================] - 0s 15ms/step - loss: 0.4041 - accuracy: 0.8078 - val_loss: 0.3993 - val_accuracy: 0.8094\n",
            "Epoch 67/100\n",
            "20/20 [==============================] - 0s 14ms/step - loss: 0.4039 - accuracy: 0.8127 - val_loss: 0.3988 - val_accuracy: 0.8127\n",
            "Epoch 68/100\n",
            "20/20 [==============================] - 0s 13ms/step - loss: 0.4024 - accuracy: 0.8062 - val_loss: 0.3983 - val_accuracy: 0.8094\n",
            "Epoch 69/100\n",
            "20/20 [==============================] - 0s 15ms/step - loss: 0.4023 - accuracy: 0.8094 - val_loss: 0.3974 - val_accuracy: 0.8127\n",
            "Epoch 70/100\n",
            "20/20 [==============================] - 0s 14ms/step - loss: 0.4017 - accuracy: 0.8062 - val_loss: 0.3967 - val_accuracy: 0.8127\n",
            "Epoch 71/100\n",
            "20/20 [==============================] - 0s 11ms/step - loss: 0.4007 - accuracy: 0.8127 - val_loss: 0.3969 - val_accuracy: 0.8078\n",
            "Epoch 72/100\n",
            "20/20 [==============================] - 0s 10ms/step - loss: 0.4013 - accuracy: 0.8094 - val_loss: 0.3958 - val_accuracy: 0.8094\n",
            "Epoch 73/100\n",
            "20/20 [==============================] - 0s 22ms/step - loss: 0.3999 - accuracy: 0.8078 - val_loss: 0.3953 - val_accuracy: 0.8208\n",
            "Epoch 74/100\n",
            "20/20 [==============================] - 0s 18ms/step - loss: 0.3992 - accuracy: 0.8143 - val_loss: 0.3946 - val_accuracy: 0.8127\n",
            "Epoch 75/100\n",
            "20/20 [==============================] - 0s 19ms/step - loss: 0.3981 - accuracy: 0.8111 - val_loss: 0.3947 - val_accuracy: 0.8143\n",
            "Epoch 76/100\n",
            "20/20 [==============================] - 0s 20ms/step - loss: 0.3976 - accuracy: 0.8127 - val_loss: 0.3939 - val_accuracy: 0.8094\n",
            "Epoch 77/100\n",
            "20/20 [==============================] - 0s 19ms/step - loss: 0.3983 - accuracy: 0.8094 - val_loss: 0.3935 - val_accuracy: 0.8094\n",
            "Epoch 78/100\n",
            "20/20 [==============================] - 0s 17ms/step - loss: 0.3976 - accuracy: 0.8094 - val_loss: 0.3923 - val_accuracy: 0.8111\n",
            "Epoch 79/100\n",
            "20/20 [==============================] - 0s 19ms/step - loss: 0.3967 - accuracy: 0.8062 - val_loss: 0.3924 - val_accuracy: 0.8078\n",
            "Epoch 80/100\n",
            "20/20 [==============================] - 0s 20ms/step - loss: 0.3964 - accuracy: 0.8094 - val_loss: 0.3910 - val_accuracy: 0.8143\n",
            "Epoch 81/100\n",
            "20/20 [==============================] - 0s 15ms/step - loss: 0.3952 - accuracy: 0.8094 - val_loss: 0.3912 - val_accuracy: 0.8208\n",
            "Epoch 82/100\n",
            "20/20 [==============================] - 0s 12ms/step - loss: 0.3946 - accuracy: 0.8160 - val_loss: 0.3899 - val_accuracy: 0.8127\n",
            "Epoch 83/100\n",
            "20/20 [==============================] - 0s 17ms/step - loss: 0.3945 - accuracy: 0.8143 - val_loss: 0.3894 - val_accuracy: 0.8143\n",
            "Epoch 84/100\n",
            "20/20 [==============================] - 0s 17ms/step - loss: 0.3941 - accuracy: 0.8143 - val_loss: 0.3893 - val_accuracy: 0.8127\n",
            "Epoch 85/100\n",
            "20/20 [==============================] - 0s 14ms/step - loss: 0.3934 - accuracy: 0.8094 - val_loss: 0.3884 - val_accuracy: 0.8143\n",
            "Epoch 86/100\n",
            "20/20 [==============================] - 0s 16ms/step - loss: 0.3925 - accuracy: 0.8094 - val_loss: 0.3879 - val_accuracy: 0.8176\n",
            "Epoch 87/100\n",
            "20/20 [==============================] - 0s 17ms/step - loss: 0.3922 - accuracy: 0.8160 - val_loss: 0.3874 - val_accuracy: 0.8160\n",
            "Epoch 88/100\n",
            "20/20 [==============================] - 0s 12ms/step - loss: 0.3917 - accuracy: 0.8143 - val_loss: 0.3865 - val_accuracy: 0.8160\n",
            "Epoch 89/100\n",
            "20/20 [==============================] - 0s 19ms/step - loss: 0.3912 - accuracy: 0.8111 - val_loss: 0.3862 - val_accuracy: 0.8192\n",
            "Epoch 90/100\n",
            "20/20 [==============================] - 0s 11ms/step - loss: 0.3898 - accuracy: 0.8160 - val_loss: 0.3856 - val_accuracy: 0.8160\n",
            "Epoch 91/100\n",
            "20/20 [==============================] - 0s 11ms/step - loss: 0.3895 - accuracy: 0.8127 - val_loss: 0.3855 - val_accuracy: 0.8192\n",
            "Epoch 92/100\n",
            "20/20 [==============================] - 0s 16ms/step - loss: 0.3894 - accuracy: 0.8127 - val_loss: 0.3842 - val_accuracy: 0.8192\n",
            "Epoch 93/100\n",
            "20/20 [==============================] - 0s 14ms/step - loss: 0.3885 - accuracy: 0.8192 - val_loss: 0.3842 - val_accuracy: 0.8160\n",
            "Epoch 94/100\n",
            "20/20 [==============================] - 0s 10ms/step - loss: 0.3885 - accuracy: 0.8160 - val_loss: 0.3828 - val_accuracy: 0.8176\n",
            "Epoch 95/100\n",
            "20/20 [==============================] - 0s 12ms/step - loss: 0.3878 - accuracy: 0.8078 - val_loss: 0.3821 - val_accuracy: 0.8192\n",
            "Epoch 96/100\n",
            "20/20 [==============================] - 0s 12ms/step - loss: 0.3867 - accuracy: 0.8160 - val_loss: 0.3822 - val_accuracy: 0.8192\n",
            "Epoch 97/100\n",
            "20/20 [==============================] - 0s 14ms/step - loss: 0.3864 - accuracy: 0.8143 - val_loss: 0.3812 - val_accuracy: 0.8176\n",
            "Epoch 98/100\n",
            "20/20 [==============================] - 0s 11ms/step - loss: 0.3865 - accuracy: 0.8160 - val_loss: 0.3810 - val_accuracy: 0.8192\n",
            "Epoch 99/100\n",
            "20/20 [==============================] - 0s 14ms/step - loss: 0.3854 - accuracy: 0.8192 - val_loss: 0.3800 - val_accuracy: 0.8143\n",
            "Epoch 100/100\n",
            "20/20 [==============================] - 0s 12ms/step - loss: 0.3854 - accuracy: 0.8225 - val_loss: 0.3799 - val_accuracy: 0.8127\n"
          ]
        },
        {
          "output_type": "execute_result",
          "data": {
            "text/plain": [
              "<keras.callbacks.History at 0x7f4411d3e160>"
            ]
          },
          "metadata": {},
          "execution_count": 27
        }
      ]
    },
    {
      "cell_type": "code",
      "source": [
        "def build_model(hp):\n",
        "\n",
        "  model = Sequential()\n",
        "\n",
        "  for i in range(hp.Int('num_layers',min_value=1,max_value=10)):\n",
        "    model.add(Dense(72,activation='relu'))\n",
        "  \n",
        "  model.add(Dense(1,activation='sigmoid'))\n",
        "\n",
        "  model.compile(optimizer='rmsprop', loss='binary_crossentropy',metrics=['accuracy'])\n",
        "\n",
        "  return model"
      ],
      "metadata": {
        "id": "GMObFtryAd2i"
      },
      "execution_count": 28,
      "outputs": []
    },
    {
      "cell_type": "code",
      "source": [
        "tuner = kt.RandomSearch(build_model,\n",
        "                        objective = 'val_accuracy',\n",
        "                        max_trials = 3,\n",
        "                        directory = 'mydir',\n",
        "                        project_name = 'num_layer')"
      ],
      "metadata": {
        "id": "8uFfg1zHCzbT"
      },
      "execution_count": 29,
      "outputs": []
    },
    {
      "cell_type": "code",
      "source": [
        "tuner.search(X_train,y_train,epochs=10,validation_data=(X_test,y_test))"
      ],
      "metadata": {
        "id": "7KUbq0YyDKUI"
      },
      "execution_count": 30,
      "outputs": []
    },
    {
      "cell_type": "code",
      "source": [
        "tuner.get_best_hyperparameters()[0].values"
      ],
      "metadata": {
        "colab": {
          "base_uri": "https://localhost:8080/"
        },
        "id": "HvCYmey9Da5s",
        "outputId": "80156841-9b73-4f00-9fb0-1bef9923dcb9"
      },
      "execution_count": 31,
      "outputs": [
        {
          "output_type": "execute_result",
          "data": {
            "text/plain": [
              "{'num_layers': 5}"
            ]
          },
          "metadata": {},
          "execution_count": 31
        }
      ]
    },
    {
      "cell_type": "code",
      "source": [
        "model = tuner.get_best_models(num_models=1)[0]"
      ],
      "metadata": {
        "id": "erWtpzRQDm4y"
      },
      "execution_count": 32,
      "outputs": []
    },
    {
      "cell_type": "code",
      "source": [
        "model.fit(X_train,y_train,epochs=100, initial_epoch=6, validation_data=(X_train,y_train))"
      ],
      "metadata": {
        "colab": {
          "base_uri": "https://localhost:8080/"
        },
        "id": "ZtfeqhpKDqoW",
        "outputId": "c4436561-a508-4679-8fdd-a8cc4edff306"
      },
      "execution_count": 33,
      "outputs": [
        {
          "output_type": "stream",
          "name": "stdout",
          "text": [
            "Epoch 7/100\n",
            "20/20 [==============================] - 3s 15ms/step - loss: 0.3934 - accuracy: 0.8176 - val_loss: 0.4484 - val_accuracy: 0.7769\n",
            "Epoch 8/100\n",
            "20/20 [==============================] - 0s 9ms/step - loss: 0.3876 - accuracy: 0.8127 - val_loss: 0.3717 - val_accuracy: 0.8306\n",
            "Epoch 9/100\n",
            "20/20 [==============================] - 0s 8ms/step - loss: 0.3755 - accuracy: 0.8371 - val_loss: 0.3504 - val_accuracy: 0.8388\n",
            "Epoch 10/100\n",
            "20/20 [==============================] - 0s 12ms/step - loss: 0.3694 - accuracy: 0.8322 - val_loss: 0.3607 - val_accuracy: 0.8306\n",
            "Epoch 11/100\n",
            "20/20 [==============================] - 0s 12ms/step - loss: 0.3582 - accuracy: 0.8453 - val_loss: 0.3374 - val_accuracy: 0.8453\n",
            "Epoch 12/100\n",
            "20/20 [==============================] - 0s 10ms/step - loss: 0.3528 - accuracy: 0.8371 - val_loss: 0.3224 - val_accuracy: 0.8583\n",
            "Epoch 13/100\n",
            "20/20 [==============================] - 0s 15ms/step - loss: 0.3440 - accuracy: 0.8404 - val_loss: 0.3066 - val_accuracy: 0.8795\n",
            "Epoch 14/100\n",
            "20/20 [==============================] - 0s 14ms/step - loss: 0.3222 - accuracy: 0.8518 - val_loss: 0.3104 - val_accuracy: 0.8599\n",
            "Epoch 15/100\n",
            "20/20 [==============================] - 0s 15ms/step - loss: 0.3259 - accuracy: 0.8550 - val_loss: 0.3016 - val_accuracy: 0.8827\n",
            "Epoch 16/100\n",
            "20/20 [==============================] - 0s 16ms/step - loss: 0.3043 - accuracy: 0.8681 - val_loss: 0.2665 - val_accuracy: 0.8925\n",
            "Epoch 17/100\n",
            "20/20 [==============================] - 0s 10ms/step - loss: 0.2913 - accuracy: 0.8713 - val_loss: 0.3083 - val_accuracy: 0.8567\n",
            "Epoch 18/100\n",
            "20/20 [==============================] - 0s 9ms/step - loss: 0.2889 - accuracy: 0.8811 - val_loss: 0.3083 - val_accuracy: 0.8599\n",
            "Epoch 19/100\n",
            "20/20 [==============================] - 0s 7ms/step - loss: 0.2916 - accuracy: 0.8779 - val_loss: 0.2617 - val_accuracy: 0.9039\n",
            "Epoch 20/100\n",
            "20/20 [==============================] - 0s 7ms/step - loss: 0.2596 - accuracy: 0.8941 - val_loss: 0.5358 - val_accuracy: 0.7524\n",
            "Epoch 21/100\n",
            "20/20 [==============================] - 0s 7ms/step - loss: 0.2608 - accuracy: 0.8974 - val_loss: 0.3488 - val_accuracy: 0.8388\n",
            "Epoch 22/100\n",
            "20/20 [==============================] - 0s 8ms/step - loss: 0.2406 - accuracy: 0.9023 - val_loss: 0.2748 - val_accuracy: 0.8795\n",
            "Epoch 23/100\n",
            "20/20 [==============================] - 0s 7ms/step - loss: 0.2371 - accuracy: 0.8958 - val_loss: 0.3072 - val_accuracy: 0.8453\n",
            "Epoch 24/100\n",
            "20/20 [==============================] - 0s 8ms/step - loss: 0.2409 - accuracy: 0.8958 - val_loss: 0.2563 - val_accuracy: 0.8779\n",
            "Epoch 25/100\n",
            "20/20 [==============================] - 0s 7ms/step - loss: 0.2096 - accuracy: 0.9088 - val_loss: 0.2485 - val_accuracy: 0.8909\n",
            "Epoch 26/100\n",
            "20/20 [==============================] - 0s 7ms/step - loss: 0.2190 - accuracy: 0.9088 - val_loss: 0.1681 - val_accuracy: 0.9414\n",
            "Epoch 27/100\n",
            "20/20 [==============================] - 0s 8ms/step - loss: 0.1928 - accuracy: 0.9235 - val_loss: 0.1740 - val_accuracy: 0.9381\n",
            "Epoch 28/100\n",
            "20/20 [==============================] - 0s 7ms/step - loss: 0.2003 - accuracy: 0.9202 - val_loss: 0.1565 - val_accuracy: 0.9349\n",
            "Epoch 29/100\n",
            "20/20 [==============================] - 0s 7ms/step - loss: 0.1599 - accuracy: 0.9463 - val_loss: 0.1740 - val_accuracy: 0.9446\n",
            "Epoch 30/100\n",
            "20/20 [==============================] - 0s 7ms/step - loss: 0.1588 - accuracy: 0.9463 - val_loss: 0.2106 - val_accuracy: 0.9088\n",
            "Epoch 31/100\n",
            "20/20 [==============================] - 0s 7ms/step - loss: 0.1588 - accuracy: 0.9349 - val_loss: 0.2519 - val_accuracy: 0.8860\n",
            "Epoch 32/100\n",
            "20/20 [==============================] - 0s 9ms/step - loss: 0.1880 - accuracy: 0.9202 - val_loss: 0.2963 - val_accuracy: 0.8860\n",
            "Epoch 33/100\n",
            "20/20 [==============================] - 0s 7ms/step - loss: 0.1566 - accuracy: 0.9397 - val_loss: 0.1408 - val_accuracy: 0.9463\n",
            "Epoch 34/100\n",
            "20/20 [==============================] - 0s 8ms/step - loss: 0.1519 - accuracy: 0.9463 - val_loss: 0.1129 - val_accuracy: 0.9577\n",
            "Epoch 35/100\n",
            "20/20 [==============================] - 0s 8ms/step - loss: 0.1303 - accuracy: 0.9495 - val_loss: 0.0848 - val_accuracy: 0.9772\n",
            "Epoch 36/100\n",
            "20/20 [==============================] - 0s 8ms/step - loss: 0.1753 - accuracy: 0.9251 - val_loss: 0.0938 - val_accuracy: 0.9723\n",
            "Epoch 37/100\n",
            "20/20 [==============================] - 0s 7ms/step - loss: 0.0837 - accuracy: 0.9756 - val_loss: 0.1054 - val_accuracy: 0.9642\n",
            "Epoch 38/100\n",
            "20/20 [==============================] - 0s 8ms/step - loss: 0.1202 - accuracy: 0.9544 - val_loss: 0.1421 - val_accuracy: 0.9365\n",
            "Epoch 39/100\n",
            "20/20 [==============================] - 0s 7ms/step - loss: 0.1227 - accuracy: 0.9511 - val_loss: 0.0666 - val_accuracy: 0.9805\n",
            "Epoch 40/100\n",
            "20/20 [==============================] - 0s 7ms/step - loss: 0.0933 - accuracy: 0.9674 - val_loss: 0.0547 - val_accuracy: 0.9853\n",
            "Epoch 41/100\n",
            "20/20 [==============================] - 0s 8ms/step - loss: 0.0848 - accuracy: 0.9642 - val_loss: 0.0530 - val_accuracy: 0.9886\n",
            "Epoch 42/100\n",
            "20/20 [==============================] - 0s 8ms/step - loss: 0.1056 - accuracy: 0.9625 - val_loss: 0.3805 - val_accuracy: 0.8436\n",
            "Epoch 43/100\n",
            "20/20 [==============================] - 0s 7ms/step - loss: 0.0955 - accuracy: 0.9642 - val_loss: 0.0446 - val_accuracy: 0.9837\n",
            "Epoch 44/100\n",
            "20/20 [==============================] - 0s 8ms/step - loss: 0.0809 - accuracy: 0.9691 - val_loss: 0.0892 - val_accuracy: 0.9739\n",
            "Epoch 45/100\n",
            "20/20 [==============================] - 0s 7ms/step - loss: 0.0758 - accuracy: 0.9739 - val_loss: 0.0600 - val_accuracy: 0.9837\n",
            "Epoch 46/100\n",
            "20/20 [==============================] - 0s 8ms/step - loss: 0.0546 - accuracy: 0.9870 - val_loss: 0.0477 - val_accuracy: 0.9837\n",
            "Epoch 47/100\n",
            "20/20 [==============================] - 0s 7ms/step - loss: 0.0751 - accuracy: 0.9674 - val_loss: 0.1777 - val_accuracy: 0.9283\n",
            "Epoch 48/100\n",
            "20/20 [==============================] - 0s 8ms/step - loss: 0.0821 - accuracy: 0.9707 - val_loss: 0.0764 - val_accuracy: 0.9707\n",
            "Epoch 49/100\n",
            "20/20 [==============================] - 0s 7ms/step - loss: 0.0821 - accuracy: 0.9707 - val_loss: 0.0317 - val_accuracy: 0.9902\n",
            "Epoch 50/100\n",
            "20/20 [==============================] - 0s 7ms/step - loss: 0.0504 - accuracy: 0.9772 - val_loss: 0.1115 - val_accuracy: 0.9446\n",
            "Epoch 51/100\n",
            "20/20 [==============================] - 0s 7ms/step - loss: 0.0798 - accuracy: 0.9739 - val_loss: 0.0442 - val_accuracy: 0.9870\n",
            "Epoch 52/100\n",
            "20/20 [==============================] - 0s 7ms/step - loss: 0.0249 - accuracy: 0.9984 - val_loss: 0.0314 - val_accuracy: 0.9870\n",
            "Epoch 53/100\n",
            "20/20 [==============================] - 0s 8ms/step - loss: 0.0391 - accuracy: 0.9870 - val_loss: 0.0366 - val_accuracy: 0.9886\n",
            "Epoch 54/100\n",
            "20/20 [==============================] - 0s 7ms/step - loss: 0.1036 - accuracy: 0.9691 - val_loss: 0.0184 - val_accuracy: 0.9967\n",
            "Epoch 55/100\n",
            "20/20 [==============================] - 0s 8ms/step - loss: 0.0226 - accuracy: 0.9951 - val_loss: 0.0269 - val_accuracy: 0.9886\n",
            "Epoch 56/100\n",
            "20/20 [==============================] - 0s 7ms/step - loss: 0.0997 - accuracy: 0.9674 - val_loss: 0.0156 - val_accuracy: 0.9967\n",
            "Epoch 57/100\n",
            "20/20 [==============================] - 0s 8ms/step - loss: 0.0131 - accuracy: 0.9984 - val_loss: 0.0524 - val_accuracy: 0.9821\n",
            "Epoch 58/100\n",
            "20/20 [==============================] - 0s 8ms/step - loss: 0.0597 - accuracy: 0.9723 - val_loss: 0.1526 - val_accuracy: 0.9463\n",
            "Epoch 59/100\n",
            "20/20 [==============================] - 0s 7ms/step - loss: 0.0318 - accuracy: 0.9919 - val_loss: 0.2866 - val_accuracy: 0.9186\n",
            "Epoch 60/100\n",
            "20/20 [==============================] - 0s 9ms/step - loss: 0.0517 - accuracy: 0.9805 - val_loss: 0.0305 - val_accuracy: 0.9902\n",
            "Epoch 61/100\n",
            "20/20 [==============================] - 0s 8ms/step - loss: 0.0314 - accuracy: 0.9902 - val_loss: 0.2707 - val_accuracy: 0.9267\n",
            "Epoch 62/100\n",
            "20/20 [==============================] - 0s 8ms/step - loss: 0.0451 - accuracy: 0.9805 - val_loss: 0.0191 - val_accuracy: 0.9935\n",
            "Epoch 63/100\n",
            "20/20 [==============================] - 0s 8ms/step - loss: 0.0084 - accuracy: 1.0000 - val_loss: 0.0071 - val_accuracy: 1.0000\n",
            "Epoch 64/100\n",
            "20/20 [==============================] - 0s 7ms/step - loss: 0.0291 - accuracy: 0.9886 - val_loss: 0.0108 - val_accuracy: 0.9984\n",
            "Epoch 65/100\n",
            "20/20 [==============================] - 0s 7ms/step - loss: 0.0447 - accuracy: 0.9870 - val_loss: 0.4088 - val_accuracy: 0.8697\n",
            "Epoch 66/100\n",
            "20/20 [==============================] - 0s 8ms/step - loss: 0.0449 - accuracy: 0.9788 - val_loss: 0.0099 - val_accuracy: 1.0000\n",
            "Epoch 67/100\n",
            "20/20 [==============================] - 0s 8ms/step - loss: 0.0157 - accuracy: 0.9984 - val_loss: 0.1194 - val_accuracy: 0.9609\n",
            "Epoch 68/100\n",
            "20/20 [==============================] - 0s 8ms/step - loss: 0.0416 - accuracy: 0.9870 - val_loss: 0.0061 - val_accuracy: 1.0000\n",
            "Epoch 69/100\n",
            "20/20 [==============================] - 0s 7ms/step - loss: 0.0558 - accuracy: 0.9821 - val_loss: 0.0488 - val_accuracy: 0.9853\n",
            "Epoch 70/100\n",
            "20/20 [==============================] - 0s 7ms/step - loss: 0.0202 - accuracy: 0.9951 - val_loss: 0.0028 - val_accuracy: 1.0000\n",
            "Epoch 71/100\n",
            "20/20 [==============================] - 0s 7ms/step - loss: 0.0032 - accuracy: 1.0000 - val_loss: 0.0018 - val_accuracy: 1.0000\n",
            "Epoch 72/100\n",
            "20/20 [==============================] - 0s 7ms/step - loss: 0.0693 - accuracy: 0.9788 - val_loss: 0.0804 - val_accuracy: 0.9707\n",
            "Epoch 73/100\n",
            "20/20 [==============================] - 0s 7ms/step - loss: 0.0518 - accuracy: 0.9886 - val_loss: 0.0093 - val_accuracy: 0.9984\n",
            "Epoch 74/100\n",
            "20/20 [==============================] - 0s 8ms/step - loss: 0.0054 - accuracy: 1.0000 - val_loss: 0.0083 - val_accuracy: 0.9967\n",
            "Epoch 75/100\n",
            "20/20 [==============================] - 0s 7ms/step - loss: 0.0553 - accuracy: 0.9837 - val_loss: 0.0126 - val_accuracy: 0.9967\n",
            "Epoch 76/100\n",
            "20/20 [==============================] - 0s 8ms/step - loss: 0.0097 - accuracy: 0.9984 - val_loss: 0.0057 - val_accuracy: 0.9984\n",
            "Epoch 77/100\n",
            "20/20 [==============================] - 0s 7ms/step - loss: 0.0534 - accuracy: 0.9886 - val_loss: 0.0210 - val_accuracy: 0.9919\n",
            "Epoch 78/100\n",
            "20/20 [==============================] - 0s 8ms/step - loss: 0.0367 - accuracy: 0.9853 - val_loss: 0.2058 - val_accuracy: 0.9365\n",
            "Epoch 79/100\n",
            "20/20 [==============================] - 0s 7ms/step - loss: 0.0223 - accuracy: 0.9935 - val_loss: 0.0039 - val_accuracy: 0.9984\n",
            "Epoch 80/100\n",
            "20/20 [==============================] - 0s 8ms/step - loss: 0.0023 - accuracy: 1.0000 - val_loss: 0.0015 - val_accuracy: 1.0000\n",
            "Epoch 81/100\n",
            "20/20 [==============================] - 0s 9ms/step - loss: 0.0014 - accuracy: 1.0000 - val_loss: 0.0014 - val_accuracy: 1.0000\n",
            "Epoch 82/100\n",
            "20/20 [==============================] - 0s 9ms/step - loss: 0.0593 - accuracy: 0.9870 - val_loss: 0.0132 - val_accuracy: 0.9967\n",
            "Epoch 83/100\n",
            "20/20 [==============================] - 0s 15ms/step - loss: 0.0056 - accuracy: 0.9984 - val_loss: 0.0011 - val_accuracy: 1.0000\n",
            "Epoch 84/100\n",
            "20/20 [==============================] - 0s 12ms/step - loss: 0.0010 - accuracy: 1.0000 - val_loss: 7.8411e-04 - val_accuracy: 1.0000\n",
            "Epoch 85/100\n",
            "20/20 [==============================] - 0s 11ms/step - loss: 0.0010 - accuracy: 1.0000 - val_loss: 7.2110e-04 - val_accuracy: 1.0000\n",
            "Epoch 86/100\n",
            "20/20 [==============================] - 0s 11ms/step - loss: 0.1271 - accuracy: 0.9658 - val_loss: 0.0206 - val_accuracy: 0.9886\n",
            "Epoch 87/100\n",
            "20/20 [==============================] - 0s 11ms/step - loss: 0.0040 - accuracy: 0.9984 - val_loss: 8.6264e-04 - val_accuracy: 1.0000\n",
            "Epoch 88/100\n",
            "20/20 [==============================] - 0s 10ms/step - loss: 7.9219e-04 - accuracy: 1.0000 - val_loss: 5.4710e-04 - val_accuracy: 1.0000\n",
            "Epoch 89/100\n",
            "20/20 [==============================] - 0s 11ms/step - loss: 5.6153e-04 - accuracy: 1.0000 - val_loss: 0.0058 - val_accuracy: 0.9984\n",
            "Epoch 90/100\n",
            "20/20 [==============================] - 0s 11ms/step - loss: 0.0826 - accuracy: 0.9821 - val_loss: 0.0024 - val_accuracy: 1.0000\n",
            "Epoch 91/100\n",
            "20/20 [==============================] - 0s 15ms/step - loss: 0.0028 - accuracy: 1.0000 - val_loss: 0.0016 - val_accuracy: 1.0000\n",
            "Epoch 92/100\n",
            "20/20 [==============================] - 0s 10ms/step - loss: 0.0181 - accuracy: 0.9967 - val_loss: 8.1698e-04 - val_accuracy: 1.0000\n",
            "Epoch 93/100\n",
            "20/20 [==============================] - 0s 7ms/step - loss: 8.8586e-04 - accuracy: 1.0000 - val_loss: 7.6859e-04 - val_accuracy: 1.0000\n",
            "Epoch 94/100\n",
            "20/20 [==============================] - 0s 7ms/step - loss: 0.0389 - accuracy: 0.9919 - val_loss: 0.0069 - val_accuracy: 0.9984\n",
            "Epoch 95/100\n",
            "20/20 [==============================] - 0s 9ms/step - loss: 0.0144 - accuracy: 0.9967 - val_loss: 0.0015 - val_accuracy: 1.0000\n",
            "Epoch 96/100\n",
            "20/20 [==============================] - 0s 7ms/step - loss: 0.0015 - accuracy: 1.0000 - val_loss: 0.0015 - val_accuracy: 1.0000\n",
            "Epoch 97/100\n",
            "20/20 [==============================] - 0s 7ms/step - loss: 4.9508e-04 - accuracy: 1.0000 - val_loss: 0.0106 - val_accuracy: 0.9951\n",
            "Epoch 98/100\n",
            "20/20 [==============================] - 0s 7ms/step - loss: 0.0861 - accuracy: 0.9788 - val_loss: 0.0054 - val_accuracy: 1.0000\n",
            "Epoch 99/100\n",
            "20/20 [==============================] - 0s 7ms/step - loss: 0.0073 - accuracy: 0.9967 - val_loss: 0.0135 - val_accuracy: 0.9919\n",
            "Epoch 100/100\n",
            "20/20 [==============================] - 0s 7ms/step - loss: 0.0027 - accuracy: 1.0000 - val_loss: 6.2188e-04 - val_accuracy: 1.0000\n"
          ]
        },
        {
          "output_type": "execute_result",
          "data": {
            "text/plain": [
              "<keras.callbacks.History at 0x7f448a85c220>"
            ]
          },
          "metadata": {},
          "execution_count": 33
        }
      ]
    },
    {
      "cell_type": "code",
      "source": [
        "from tensorflow.python.distribute.input_lib import values\n",
        "def build_model(hp):\n",
        "  model = Sequential()\n",
        "\n",
        "  counter = 0\n",
        "\n",
        "  for i in range(hp.Int('num_layers', min_value = 1, max_value=10)):\n",
        "    if counter == 0:\n",
        "\n",
        "      model.add(Dense(hp.Int('units'+ str(i), min_value = 8,max_value = 128,step = 8),activation = hp.Choice('activation'+str(i),values=['relu','tanh','sigmoid']),input_dim = 8))\n",
        "      model.add(Dropout(hp.Choice('dropout'+str(i), values=[0.1,0.2,0.3,0.4,0.5,0.6,0.7,0.8,0.9])))\n",
        "    else:\n",
        "      model.add(Dense(hp.Int('units'+str(i), min_value = 8,max_value = 128,step = 8),activation = hp.Choice('activation'+str(i),values=['relu','tanh','sigmoid'])))\n",
        "      model.add(Dropout(hp.Choice('dropout'+str(i), values=[0.1,0.2,0.3,0.4,0.5,0.6,0.7,0.8,0.9])))\n",
        "    counter+=1\n",
        "\n",
        "  model.add(Dense(1,activation='sigmoid'))\n",
        "\n",
        "  model.compile(optimizer=hp.Choice('optimizer',values=['rmsprop','adam','sgd','nadam','adadelta']),\n",
        "                    loss = 'binary_crossentropy',\n",
        "                    metrics = ['accuracy'])\n",
        "  return model\n",
        "        \n"
      ],
      "metadata": {
        "id": "xg2HbV9uD3U3"
      },
      "execution_count": 34,
      "outputs": []
    },
    {
      "cell_type": "code",
      "source": [
        "tuner = kt.RandomSearch(build_model,\n",
        "                        objective = 'val_accuracy',\n",
        "                        directory = 'mydir',\n",
        "                        project_name = 'final1')"
      ],
      "metadata": {
        "id": "7BsvGmsoPutw"
      },
      "execution_count": 35,
      "outputs": []
    },
    {
      "cell_type": "code",
      "source": [
        "tuner.search(X_train,y_train, epochs = 5, validation_data=(X_test,y_test))"
      ],
      "metadata": {
        "colab": {
          "base_uri": "https://localhost:8080/"
        },
        "id": "1M4B6DdEQlox",
        "outputId": "570bd8c4-c661-477c-b7e7-b00d6f8aa329"
      },
      "execution_count": 36,
      "outputs": [
        {
          "output_type": "stream",
          "name": "stdout",
          "text": [
            "Trial 10 Complete [00h 00m 03s]\n",
            "val_accuracy: 0.30519479513168335\n",
            "\n",
            "Best val_accuracy So Far: 0.7662337422370911\n",
            "Total elapsed time: 00h 00m 43s\n"
          ]
        }
      ]
    },
    {
      "cell_type": "code",
      "source": [
        "tuner.get_best_hyperparameters()[0].values"
      ],
      "metadata": {
        "colab": {
          "base_uri": "https://localhost:8080/"
        },
        "id": "Xyr_XG6rRKnT",
        "outputId": "c34dd8b7-3825-406c-8468-f33235f8d878"
      },
      "execution_count": 37,
      "outputs": [
        {
          "output_type": "execute_result",
          "data": {
            "text/plain": [
              "{'num_layers': 4,\n",
              " 'units0': 16,\n",
              " 'activation0': 'tanh',\n",
              " 'dropout0': 0.2,\n",
              " 'optimizer': 'adam',\n",
              " 'units1': 24,\n",
              " 'activation1': 'tanh',\n",
              " 'dropout1': 0.1,\n",
              " 'units2': 8,\n",
              " 'activation2': 'tanh',\n",
              " 'dropout2': 0.1,\n",
              " 'units3': 112,\n",
              " 'activation3': 'sigmoid',\n",
              " 'dropout3': 0.2,\n",
              " 'units4': 40,\n",
              " 'activation4': 'relu',\n",
              " 'dropout4': 0.3,\n",
              " 'units5': 80,\n",
              " 'activation5': 'tanh',\n",
              " 'dropout5': 0.5,\n",
              " 'units6': 32,\n",
              " 'activation6': 'relu',\n",
              " 'dropout6': 0.7,\n",
              " 'units7': 8,\n",
              " 'activation7': 'relu',\n",
              " 'dropout7': 0.1,\n",
              " 'units8': 120,\n",
              " 'activation8': 'relu',\n",
              " 'dropout8': 0.5,\n",
              " 'units9': 56,\n",
              " 'activation9': 'relu',\n",
              " 'dropout9': 0.9}"
            ]
          },
          "metadata": {},
          "execution_count": 37
        }
      ]
    },
    {
      "cell_type": "code",
      "source": [
        "model = tuner.get_best_models(num_models=1)[0]"
      ],
      "metadata": {
        "id": "2VU40hpURdVR"
      },
      "execution_count": 38,
      "outputs": []
    },
    {
      "cell_type": "code",
      "source": [
        "model.fit(X_train,y_train,epochs = 100,initial_epoch=6,validation_data=(X_test,y_test))"
      ],
      "metadata": {
        "colab": {
          "base_uri": "https://localhost:8080/"
        },
        "id": "wz8corhlSA_D",
        "outputId": "598a15ce-4213-4087-ac87-48529302c746"
      },
      "execution_count": 39,
      "outputs": [
        {
          "output_type": "stream",
          "name": "stdout",
          "text": [
            "Epoch 7/100\n",
            "20/20 [==============================] - 2s 20ms/step - loss: 0.5579 - accuracy: 0.7182 - val_loss: 0.4960 - val_accuracy: 0.7532\n",
            "Epoch 8/100\n",
            "20/20 [==============================] - 0s 10ms/step - loss: 0.5293 - accuracy: 0.7345 - val_loss: 0.4908 - val_accuracy: 0.7338\n",
            "Epoch 9/100\n",
            "20/20 [==============================] - 0s 9ms/step - loss: 0.5023 - accuracy: 0.7687 - val_loss: 0.4800 - val_accuracy: 0.7597\n",
            "Epoch 10/100\n",
            "20/20 [==============================] - 0s 9ms/step - loss: 0.4970 - accuracy: 0.7606 - val_loss: 0.4842 - val_accuracy: 0.7597\n",
            "Epoch 11/100\n",
            "20/20 [==============================] - 0s 9ms/step - loss: 0.4841 - accuracy: 0.7785 - val_loss: 0.4823 - val_accuracy: 0.7662\n",
            "Epoch 12/100\n",
            "20/20 [==============================] - 0s 9ms/step - loss: 0.4735 - accuracy: 0.7638 - val_loss: 0.4866 - val_accuracy: 0.7532\n",
            "Epoch 13/100\n",
            "20/20 [==============================] - 0s 9ms/step - loss: 0.4702 - accuracy: 0.7736 - val_loss: 0.4811 - val_accuracy: 0.7532\n",
            "Epoch 14/100\n",
            "20/20 [==============================] - 0s 9ms/step - loss: 0.4915 - accuracy: 0.7801 - val_loss: 0.4797 - val_accuracy: 0.7597\n",
            "Epoch 15/100\n",
            "20/20 [==============================] - 0s 6ms/step - loss: 0.4831 - accuracy: 0.7818 - val_loss: 0.4809 - val_accuracy: 0.7532\n",
            "Epoch 16/100\n",
            "20/20 [==============================] - 0s 6ms/step - loss: 0.4899 - accuracy: 0.7638 - val_loss: 0.4838 - val_accuracy: 0.7403\n",
            "Epoch 17/100\n",
            "20/20 [==============================] - 0s 6ms/step - loss: 0.4999 - accuracy: 0.7524 - val_loss: 0.4817 - val_accuracy: 0.7468\n",
            "Epoch 18/100\n",
            "20/20 [==============================] - 0s 6ms/step - loss: 0.4938 - accuracy: 0.7638 - val_loss: 0.4850 - val_accuracy: 0.7338\n",
            "Epoch 19/100\n",
            "20/20 [==============================] - 0s 6ms/step - loss: 0.4862 - accuracy: 0.7655 - val_loss: 0.4860 - val_accuracy: 0.7338\n",
            "Epoch 20/100\n",
            "20/20 [==============================] - 0s 7ms/step - loss: 0.4724 - accuracy: 0.7769 - val_loss: 0.4891 - val_accuracy: 0.7338\n",
            "Epoch 21/100\n",
            "20/20 [==============================] - 0s 6ms/step - loss: 0.4774 - accuracy: 0.7850 - val_loss: 0.4851 - val_accuracy: 0.7532\n",
            "Epoch 22/100\n",
            "20/20 [==============================] - 0s 6ms/step - loss: 0.4837 - accuracy: 0.7769 - val_loss: 0.4882 - val_accuracy: 0.7273\n",
            "Epoch 23/100\n",
            "20/20 [==============================] - 0s 6ms/step - loss: 0.4885 - accuracy: 0.7752 - val_loss: 0.4865 - val_accuracy: 0.7468\n",
            "Epoch 24/100\n",
            "20/20 [==============================] - 0s 6ms/step - loss: 0.4813 - accuracy: 0.7720 - val_loss: 0.4898 - val_accuracy: 0.7403\n",
            "Epoch 25/100\n",
            "20/20 [==============================] - 0s 6ms/step - loss: 0.5042 - accuracy: 0.7606 - val_loss: 0.4843 - val_accuracy: 0.7468\n",
            "Epoch 26/100\n",
            "20/20 [==============================] - 0s 6ms/step - loss: 0.4810 - accuracy: 0.7752 - val_loss: 0.4823 - val_accuracy: 0.7468\n",
            "Epoch 27/100\n",
            "20/20 [==============================] - 0s 6ms/step - loss: 0.4915 - accuracy: 0.7785 - val_loss: 0.4857 - val_accuracy: 0.7468\n",
            "Epoch 28/100\n",
            "20/20 [==============================] - 0s 6ms/step - loss: 0.4800 - accuracy: 0.7866 - val_loss: 0.4824 - val_accuracy: 0.7403\n",
            "Epoch 29/100\n",
            "20/20 [==============================] - 0s 7ms/step - loss: 0.4642 - accuracy: 0.7801 - val_loss: 0.4904 - val_accuracy: 0.7338\n",
            "Epoch 30/100\n",
            "20/20 [==============================] - 0s 6ms/step - loss: 0.4727 - accuracy: 0.7752 - val_loss: 0.4854 - val_accuracy: 0.7403\n",
            "Epoch 31/100\n",
            "20/20 [==============================] - 0s 6ms/step - loss: 0.4846 - accuracy: 0.7736 - val_loss: 0.4844 - val_accuracy: 0.7468\n",
            "Epoch 32/100\n",
            "20/20 [==============================] - 0s 6ms/step - loss: 0.4970 - accuracy: 0.7687 - val_loss: 0.4859 - val_accuracy: 0.7338\n",
            "Epoch 33/100\n",
            "20/20 [==============================] - 0s 6ms/step - loss: 0.4814 - accuracy: 0.7818 - val_loss: 0.4835 - val_accuracy: 0.7468\n",
            "Epoch 34/100\n",
            "20/20 [==============================] - 0s 6ms/step - loss: 0.4785 - accuracy: 0.7866 - val_loss: 0.4844 - val_accuracy: 0.7468\n",
            "Epoch 35/100\n",
            "20/20 [==============================] - 0s 6ms/step - loss: 0.4778 - accuracy: 0.7752 - val_loss: 0.4883 - val_accuracy: 0.7532\n",
            "Epoch 36/100\n",
            "20/20 [==============================] - 0s 6ms/step - loss: 0.4949 - accuracy: 0.7704 - val_loss: 0.4844 - val_accuracy: 0.7532\n",
            "Epoch 37/100\n",
            "20/20 [==============================] - 0s 6ms/step - loss: 0.4662 - accuracy: 0.7785 - val_loss: 0.4808 - val_accuracy: 0.7532\n",
            "Epoch 38/100\n",
            "20/20 [==============================] - 0s 6ms/step - loss: 0.4822 - accuracy: 0.7687 - val_loss: 0.4922 - val_accuracy: 0.7597\n",
            "Epoch 39/100\n",
            "20/20 [==============================] - 0s 6ms/step - loss: 0.4699 - accuracy: 0.7720 - val_loss: 0.4817 - val_accuracy: 0.7597\n",
            "Epoch 40/100\n",
            "20/20 [==============================] - 0s 7ms/step - loss: 0.4832 - accuracy: 0.7655 - val_loss: 0.4842 - val_accuracy: 0.7597\n",
            "Epoch 41/100\n",
            "20/20 [==============================] - 0s 6ms/step - loss: 0.4612 - accuracy: 0.7834 - val_loss: 0.4878 - val_accuracy: 0.7597\n",
            "Epoch 42/100\n",
            "20/20 [==============================] - 0s 6ms/step - loss: 0.4677 - accuracy: 0.7801 - val_loss: 0.4843 - val_accuracy: 0.7597\n",
            "Epoch 43/100\n",
            "20/20 [==============================] - 0s 7ms/step - loss: 0.4641 - accuracy: 0.7736 - val_loss: 0.4813 - val_accuracy: 0.7532\n",
            "Epoch 44/100\n",
            "20/20 [==============================] - 0s 6ms/step - loss: 0.4735 - accuracy: 0.7752 - val_loss: 0.4834 - val_accuracy: 0.7532\n",
            "Epoch 45/100\n",
            "20/20 [==============================] - 0s 7ms/step - loss: 0.4848 - accuracy: 0.7704 - val_loss: 0.4827 - val_accuracy: 0.7532\n",
            "Epoch 46/100\n",
            "20/20 [==============================] - 0s 6ms/step - loss: 0.4722 - accuracy: 0.7704 - val_loss: 0.4830 - val_accuracy: 0.7532\n",
            "Epoch 47/100\n",
            "20/20 [==============================] - 0s 7ms/step - loss: 0.4667 - accuracy: 0.7655 - val_loss: 0.4847 - val_accuracy: 0.7662\n",
            "Epoch 48/100\n",
            "20/20 [==============================] - 0s 6ms/step - loss: 0.4507 - accuracy: 0.7850 - val_loss: 0.4900 - val_accuracy: 0.7662\n",
            "Epoch 49/100\n",
            "20/20 [==============================] - 0s 6ms/step - loss: 0.4776 - accuracy: 0.7687 - val_loss: 0.4858 - val_accuracy: 0.7597\n",
            "Epoch 50/100\n",
            "20/20 [==============================] - 0s 6ms/step - loss: 0.4741 - accuracy: 0.7834 - val_loss: 0.4808 - val_accuracy: 0.7597\n",
            "Epoch 51/100\n",
            "20/20 [==============================] - 0s 7ms/step - loss: 0.4738 - accuracy: 0.7638 - val_loss: 0.4831 - val_accuracy: 0.7597\n",
            "Epoch 52/100\n",
            "20/20 [==============================] - 0s 6ms/step - loss: 0.4818 - accuracy: 0.7638 - val_loss: 0.4893 - val_accuracy: 0.7597\n",
            "Epoch 53/100\n",
            "20/20 [==============================] - 0s 6ms/step - loss: 0.4774 - accuracy: 0.7573 - val_loss: 0.4803 - val_accuracy: 0.7662\n",
            "Epoch 54/100\n",
            "20/20 [==============================] - 0s 6ms/step - loss: 0.4714 - accuracy: 0.7752 - val_loss: 0.4808 - val_accuracy: 0.7662\n",
            "Epoch 55/100\n",
            "20/20 [==============================] - 0s 6ms/step - loss: 0.4661 - accuracy: 0.7752 - val_loss: 0.4799 - val_accuracy: 0.7597\n",
            "Epoch 56/100\n",
            "20/20 [==============================] - 0s 6ms/step - loss: 0.4761 - accuracy: 0.7606 - val_loss: 0.4797 - val_accuracy: 0.7597\n",
            "Epoch 57/100\n",
            "20/20 [==============================] - 0s 6ms/step - loss: 0.4705 - accuracy: 0.7752 - val_loss: 0.4805 - val_accuracy: 0.7597\n",
            "Epoch 58/100\n",
            "20/20 [==============================] - 0s 6ms/step - loss: 0.4670 - accuracy: 0.7850 - val_loss: 0.4848 - val_accuracy: 0.7597\n",
            "Epoch 59/100\n",
            "20/20 [==============================] - 0s 6ms/step - loss: 0.4789 - accuracy: 0.7704 - val_loss: 0.4817 - val_accuracy: 0.7597\n",
            "Epoch 60/100\n",
            "20/20 [==============================] - 0s 6ms/step - loss: 0.4552 - accuracy: 0.7899 - val_loss: 0.4814 - val_accuracy: 0.7597\n",
            "Epoch 61/100\n",
            "20/20 [==============================] - 0s 6ms/step - loss: 0.4685 - accuracy: 0.7736 - val_loss: 0.4851 - val_accuracy: 0.7662\n",
            "Epoch 62/100\n",
            "20/20 [==============================] - 0s 6ms/step - loss: 0.4512 - accuracy: 0.7834 - val_loss: 0.4822 - val_accuracy: 0.7597\n",
            "Epoch 63/100\n",
            "20/20 [==============================] - 0s 6ms/step - loss: 0.4718 - accuracy: 0.7866 - val_loss: 0.4804 - val_accuracy: 0.7597\n",
            "Epoch 64/100\n",
            "20/20 [==============================] - 0s 6ms/step - loss: 0.4676 - accuracy: 0.7769 - val_loss: 0.4816 - val_accuracy: 0.7597\n",
            "Epoch 65/100\n",
            "20/20 [==============================] - 0s 7ms/step - loss: 0.4745 - accuracy: 0.7801 - val_loss: 0.4814 - val_accuracy: 0.7597\n",
            "Epoch 66/100\n",
            "20/20 [==============================] - 0s 6ms/step - loss: 0.4556 - accuracy: 0.7818 - val_loss: 0.4816 - val_accuracy: 0.7532\n",
            "Epoch 67/100\n",
            "20/20 [==============================] - 0s 7ms/step - loss: 0.4650 - accuracy: 0.7850 - val_loss: 0.4871 - val_accuracy: 0.7597\n",
            "Epoch 68/100\n",
            "20/20 [==============================] - 0s 6ms/step - loss: 0.4875 - accuracy: 0.7557 - val_loss: 0.4795 - val_accuracy: 0.7532\n",
            "Epoch 69/100\n",
            "20/20 [==============================] - 0s 7ms/step - loss: 0.4619 - accuracy: 0.7769 - val_loss: 0.4815 - val_accuracy: 0.7597\n",
            "Epoch 70/100\n",
            "20/20 [==============================] - 0s 6ms/step - loss: 0.4581 - accuracy: 0.7655 - val_loss: 0.4808 - val_accuracy: 0.7532\n",
            "Epoch 71/100\n",
            "20/20 [==============================] - 0s 6ms/step - loss: 0.4683 - accuracy: 0.7752 - val_loss: 0.4853 - val_accuracy: 0.7597\n",
            "Epoch 72/100\n",
            "20/20 [==============================] - 0s 6ms/step - loss: 0.4514 - accuracy: 0.7980 - val_loss: 0.4847 - val_accuracy: 0.7597\n",
            "Epoch 73/100\n",
            "20/20 [==============================] - 0s 6ms/step - loss: 0.4692 - accuracy: 0.7850 - val_loss: 0.4868 - val_accuracy: 0.7597\n",
            "Epoch 74/100\n",
            "20/20 [==============================] - 0s 6ms/step - loss: 0.4566 - accuracy: 0.7883 - val_loss: 0.4811 - val_accuracy: 0.7532\n",
            "Epoch 75/100\n",
            "20/20 [==============================] - 0s 7ms/step - loss: 0.4701 - accuracy: 0.7801 - val_loss: 0.4855 - val_accuracy: 0.7597\n",
            "Epoch 76/100\n",
            "20/20 [==============================] - 0s 6ms/step - loss: 0.4692 - accuracy: 0.7850 - val_loss: 0.4783 - val_accuracy: 0.7597\n",
            "Epoch 77/100\n",
            "20/20 [==============================] - 0s 6ms/step - loss: 0.4630 - accuracy: 0.7850 - val_loss: 0.4832 - val_accuracy: 0.7597\n",
            "Epoch 78/100\n",
            "20/20 [==============================] - 0s 6ms/step - loss: 0.4663 - accuracy: 0.7769 - val_loss: 0.4767 - val_accuracy: 0.7662\n",
            "Epoch 79/100\n",
            "20/20 [==============================] - 0s 6ms/step - loss: 0.4659 - accuracy: 0.7752 - val_loss: 0.4813 - val_accuracy: 0.7597\n",
            "Epoch 80/100\n",
            "20/20 [==============================] - 0s 7ms/step - loss: 0.4660 - accuracy: 0.7932 - val_loss: 0.4767 - val_accuracy: 0.7597\n",
            "Epoch 81/100\n",
            "20/20 [==============================] - 0s 7ms/step - loss: 0.4533 - accuracy: 0.7866 - val_loss: 0.4835 - val_accuracy: 0.7662\n",
            "Epoch 82/100\n",
            "20/20 [==============================] - 0s 7ms/step - loss: 0.4686 - accuracy: 0.7671 - val_loss: 0.4814 - val_accuracy: 0.7597\n",
            "Epoch 83/100\n",
            "20/20 [==============================] - 0s 7ms/step - loss: 0.4490 - accuracy: 0.7834 - val_loss: 0.4863 - val_accuracy: 0.7597\n",
            "Epoch 84/100\n",
            "20/20 [==============================] - 0s 6ms/step - loss: 0.4534 - accuracy: 0.7769 - val_loss: 0.4815 - val_accuracy: 0.7532\n",
            "Epoch 85/100\n",
            "20/20 [==============================] - 0s 6ms/step - loss: 0.4645 - accuracy: 0.7720 - val_loss: 0.4814 - val_accuracy: 0.7597\n",
            "Epoch 86/100\n",
            "20/20 [==============================] - 0s 6ms/step - loss: 0.4628 - accuracy: 0.7883 - val_loss: 0.4802 - val_accuracy: 0.7597\n",
            "Epoch 87/100\n",
            "20/20 [==============================] - 0s 6ms/step - loss: 0.4657 - accuracy: 0.7834 - val_loss: 0.4787 - val_accuracy: 0.7662\n",
            "Epoch 88/100\n",
            "20/20 [==============================] - 0s 7ms/step - loss: 0.4456 - accuracy: 0.7980 - val_loss: 0.4810 - val_accuracy: 0.7532\n",
            "Epoch 89/100\n",
            "20/20 [==============================] - 0s 6ms/step - loss: 0.4566 - accuracy: 0.7818 - val_loss: 0.4827 - val_accuracy: 0.7597\n",
            "Epoch 90/100\n",
            "20/20 [==============================] - 0s 11ms/step - loss: 0.4440 - accuracy: 0.8029 - val_loss: 0.4759 - val_accuracy: 0.7597\n",
            "Epoch 91/100\n",
            "20/20 [==============================] - 0s 9ms/step - loss: 0.4722 - accuracy: 0.7834 - val_loss: 0.4767 - val_accuracy: 0.7597\n",
            "Epoch 92/100\n",
            "20/20 [==============================] - 0s 9ms/step - loss: 0.4463 - accuracy: 0.7834 - val_loss: 0.4776 - val_accuracy: 0.7597\n",
            "Epoch 93/100\n",
            "20/20 [==============================] - 0s 9ms/step - loss: 0.4650 - accuracy: 0.7866 - val_loss: 0.4850 - val_accuracy: 0.7597\n",
            "Epoch 94/100\n",
            "20/20 [==============================] - 0s 9ms/step - loss: 0.4520 - accuracy: 0.7769 - val_loss: 0.4777 - val_accuracy: 0.7597\n",
            "Epoch 95/100\n",
            "20/20 [==============================] - 0s 10ms/step - loss: 0.4629 - accuracy: 0.7915 - val_loss: 0.4804 - val_accuracy: 0.7597\n",
            "Epoch 96/100\n",
            "20/20 [==============================] - 0s 9ms/step - loss: 0.4481 - accuracy: 0.7980 - val_loss: 0.4839 - val_accuracy: 0.7597\n",
            "Epoch 97/100\n",
            "20/20 [==============================] - 0s 9ms/step - loss: 0.4580 - accuracy: 0.7655 - val_loss: 0.4839 - val_accuracy: 0.7597\n",
            "Epoch 98/100\n",
            "20/20 [==============================] - 0s 9ms/step - loss: 0.4597 - accuracy: 0.7769 - val_loss: 0.4866 - val_accuracy: 0.7532\n",
            "Epoch 99/100\n",
            "20/20 [==============================] - 0s 11ms/step - loss: 0.4488 - accuracy: 0.7997 - val_loss: 0.4854 - val_accuracy: 0.7597\n",
            "Epoch 100/100\n",
            "20/20 [==============================] - 0s 11ms/step - loss: 0.4609 - accuracy: 0.7736 - val_loss: 0.4808 - val_accuracy: 0.7662\n"
          ]
        },
        {
          "output_type": "execute_result",
          "data": {
            "text/plain": [
              "<keras.callbacks.History at 0x7f448a23d3d0>"
            ]
          },
          "metadata": {},
          "execution_count": 39
        }
      ]
    },
    {
      "cell_type": "code",
      "source": [],
      "metadata": {
        "id": "Ef2Gpv_ZSdtw"
      },
      "execution_count": 39,
      "outputs": []
    }
  ]
}